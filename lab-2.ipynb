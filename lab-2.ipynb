{
  "nbformat": 4,
  "nbformat_minor": 0,
  "metadata": {
    "colab": {
      "provenance": [],
      "authorship_tag": "ABX9TyMQBUkJ5EdtG7bhNCICisHL",
      "include_colab_link": true
    },
    "kernelspec": {
      "name": "python3",
      "display_name": "Python 3"
    },
    "language_info": {
      "name": "python"
    }
  },
  "cells": [
    {
      "cell_type": "markdown",
      "metadata": {
        "id": "view-in-github",
        "colab_type": "text"
      },
      "source": [
        "<a href=\"https://colab.research.google.com/gist/AnasAito/6e80b883c4ad57737b1bfece9ac60d5b/lab-2.ipynb\" target=\"_parent\"><img src=\"https://colab.research.google.com/assets/colab-badge.svg\" alt=\"Open In Colab\"/></a>"
      ]
    },
    {
      "cell_type": "markdown",
      "source": [
        "# SQL with Python\n",
        "This lab introduces SQL using Python and SQLite, a lightweight database system. You will learn how to:\n",
        "- Connect to an SQLite database.\n",
        "- Create tables and insert data.\n",
        "- Perform batch data insertion.\n",
        "- Query the database.\n",
        "\n",
        "SQLite is ideal for learning as it requires no additional setup and comes pre-installed with Python.\n"
      ],
      "metadata": {
        "id": "PzoyeF-C9uPV"
      }
    },
    {
      "cell_type": "markdown",
      "source": [
        "## Install and Import Dependencies\n",
        "SQLite is included with Python, so no additional installation is required. However, we'll use pandas for CSV manipulation.\n"
      ],
      "metadata": {
        "id": "yQZfRi6A91eD"
      }
    },
    {
      "cell_type": "code",
      "execution_count": null,
      "metadata": {
        "id": "nfOQm4uL9gc0"
      },
      "outputs": [],
      "source": [
        "import sqlite3\n",
        "import pandas as pd\n"
      ]
    },
    {
      "cell_type": "markdown",
      "source": [
        "## Connect to SQLite Database\n",
        "We'll create or connect to an SQLite database file named `lab_2.db`. If the file doesn't exist, SQLite will create it.\n"
      ],
      "metadata": {
        "id": "N7JTiuQo94YJ"
      }
    },
    {
      "cell_type": "code",
      "source": [
        "# Connect to SQLite database\n",
        "connection = sqlite3.connect(\"lab_2.db\")\n",
        "\n",
        "# Create a cursor object to execute SQL commands\n",
        "cursor = connection.cursor()\n",
        "\n",
        "print(\"Database connection established.\")\n"
      ],
      "metadata": {
        "id": "MCME1KuZ954t"
      },
      "execution_count": null,
      "outputs": []
    },
    {
      "cell_type": "markdown",
      "source": [
        "## Creating a Table\n",
        "We'll create a table called `Students` with the following schema:\n",
        "- `ID`: INTEGER, Primary Key\n",
        "- `Name`: TEXT\n",
        "- `Age`: INTEGER\n",
        "- `Grade`: TEXT\n"
      ],
      "metadata": {
        "id": "ntieE3OU-Dof"
      }
    },
    {
      "cell_type": "code",
      "source": [
        "# Create a table\n",
        "create_table_query = '''\n",
        "CREATE TABLE IF NOT EXISTS Students (\n",
        "    ID INTEGER PRIMARY KEY,\n",
        "    Name TEXT,\n",
        "    Age INTEGER,\n",
        "    Grade TEXT\n",
        ");\n",
        "'''\n",
        "cursor.execute(create_table_query)\n",
        "connection.commit()\n",
        "\n",
        "print(\"Table 'Students' created successfully.\")\n"
      ],
      "metadata": {
        "id": "ejSNOzxd-Eyu"
      },
      "execution_count": null,
      "outputs": []
    },
    {
      "cell_type": "markdown",
      "source": [
        "## Inserting Data\n",
        "Insert a few records into the `Students` table.\n"
      ],
      "metadata": {
        "id": "IGFV_Bmz-Kaj"
      }
    },
    {
      "cell_type": "code",
      "source": [
        "\n",
        "insert_query = '''\n",
        "INSERT INTO Students (Name, Age, Grade)\n",
        "VALUES (?, ?, ?);\n",
        "'''\n",
        "\n",
        "# data\n",
        "students_data = [\n",
        "    ('Alice', 20, 'A'),\n",
        "    ('Bob', 22, 'B'),\n",
        "    ('Charlie', 21, 'A'),\n",
        "]\n",
        "\n",
        "\n",
        "cursor.executemany(insert_query, students_data)\n",
        "connection.commit()\n",
        "\n",
        "print(\"Records inserted successfully.\")\n"
      ],
      "metadata": {
        "id": "OhClnK0L-L_k"
      },
      "execution_count": null,
      "outputs": []
    },
    {
      "cell_type": "markdown",
      "source": [
        "## Querying Data\n",
        "Use SQL SELECT queries to retrieve data from the `Students` table.\n"
      ],
      "metadata": {
        "id": "tK6aF6TG-Uyw"
      }
    },
    {
      "cell_type": "code",
      "source": [
        "# Retrieve data\n",
        "query = \"SELECT * FROM Students;\"\n",
        "cursor.execute(query)\n",
        "\n",
        "# Fetch and display results\n",
        "results = cursor.fetchall()\n",
        "for row in results:\n",
        "    print(row)\n"
      ],
      "metadata": {
        "id": "MaTfBWjW-VjH"
      },
      "execution_count": null,
      "outputs": []
    },
    {
      "cell_type": "markdown",
      "source": [
        "## Batch Insertion\n",
        "We will load data into a new table named `Employees`.\n",
        "The should contain the following columns:\n",
        "- `ID` (INTEGER)\n",
        "- `Name` (TEXT)\n",
        "- `Position` (TEXT)\n",
        "- `Salary` (REAL)\n",
        "\n",
        "Let's create the `Employees` table and write data to table .\n"
      ],
      "metadata": {
        "id": "KY8J_vgL-YFp"
      }
    },
    {
      "cell_type": "code",
      "source": [
        "# Create Employees table\n",
        "create_employees_table = '''\n",
        "CREATE TABLE IF NOT EXISTS Employees (\n",
        "    ID INTEGER PRIMARY KEY,\n",
        "    Name TEXT,\n",
        "    Position TEXT,\n",
        "    Salary REAL\n",
        ");\n",
        "'''\n",
        "cursor.execute(create_employees_table)\n",
        "\n",
        "#data\n",
        "csv_data = [\n",
        "    (1, 'John Doe', 'Manager', 75000.0),\n",
        "    (2, 'Jane Smith', 'Developer', 65000.0),\n",
        "    (3, 'Emily Davis', 'Designer', 50000.0),\n",
        "]\n",
        "\n",
        "# Insert data into Employees table\n",
        "insert_employees_query = '''\n",
        "INSERT INTO Employees (ID, Name, Position, Salary)\n",
        "VALUES (?, ?, ?, ?);\n",
        "'''\n",
        "\n",
        "cursor.executemany(insert_employees_query, csv_data)\n",
        "connection.commit()\n",
        "\n",
        "print(\"Data loaded from CSV and inserted into 'Employees' table.\")\n"
      ],
      "metadata": {
        "id": "RYCyq9xv-aH3"
      },
      "execution_count": null,
      "outputs": []
    },
    {
      "cell_type": "markdown",
      "source": [
        "## Query Examples\n",
        "Let's perform some queries:\n",
        "1. Retrieve all employees earning more than $60,000.\n",
        "2. Count the number of employees.\n"
      ],
      "metadata": {
        "id": "-AC6GtHB-o-Z"
      }
    },
    {
      "cell_type": "code",
      "source": [
        "# Query: Employees earning more than $60,000\n",
        "query_high_salary = \"SELECT * FROM Employees WHERE Salary > 60000;\"\n",
        "cursor.execute(query_high_salary)\n",
        "# we use fetch all when we have multiple rows as output\n",
        "high_salary_employees = cursor.fetchall()\n",
        "print(\"Employees earning more than $60,000:\")\n",
        "for emp in high_salary_employees:\n",
        "    print(emp)\n",
        "\n",
        "# Query: Count the number of employees\n",
        "query_count = \"SELECT COUNT(*) FROM Employees;\"\n",
        "cursor.execute(query_count)\n",
        "# we use fetch all when we have multiple rows as output\n",
        "employee_count = cursor.fetchone()[0]\n",
        "print(f\"Total number of employees: {employee_count}\")\n"
      ],
      "metadata": {
        "id": "B-TQPxLc-pzo"
      },
      "execution_count": null,
      "outputs": []
    },
    {
      "cell_type": "markdown",
      "source": [
        "## Closing the Database Connection\n",
        "Always close the database connection when you're done to ensure data integrity.\n"
      ],
      "metadata": {
        "id": "LN2pI37T-sb-"
      }
    },
    {
      "cell_type": "code",
      "source": [
        "# Close the connection\n",
        "connection.close()\n",
        "print(\"Database connection closed.\")\n"
      ],
      "metadata": {
        "id": "qtl2iZl4-tOQ"
      },
      "execution_count": null,
      "outputs": []
    },
    {
      "cell_type": "markdown",
      "source": [
        "# It is your turn !\n",
        "## **Lab: Transform ER Diagram seen in Exercise 2.3 into SQL Tables**\n",
        "\n",
        "### **Objective**\n",
        "The goal of this lab is to transform the given ER diagram into SQL tables, populate the tables with sample data, and write SQL queries to answer specific questions.\n",
        "\n",
        "---\n",
        "\n",
        "### **Instructions**\n",
        "\n",
        "\n",
        "1. **Create SQL Tables**  \n",
        "   - Use `CREATE TABLE` statements to define tables for each entity and relationship.  \n",
        "   - Ensure proper use of primary keys, foreign keys, and data types.\n",
        "\n",
        "2. **Insert Sample Data**  \n",
        "   - Populate each table with at least 5–10 rows of sample data.\n",
        "\n",
        "3. **Write SQL Queries**  \n",
        "   - Use SQL queries to answer the provided questions.\n",
        "\n",
        "---\n",
        "\n",
        "### **Questions**\n",
        "\n",
        "1. **List all professors and their research specialties.**  \n",
        "\n",
        "2. **Retrieve all projects managed by a specific professor.**  \n",
        "\n",
        "3. **Find the names of graduate students working on a specific project.**  \n",
        "\n",
        "4. **Find professors supervising graduate students on a specific project.**  \n",
        "\n",
        "5. **Count how many professors work in each department.**  \n",
        "\n",
        "6. **List graduate students and their advisors.**  \n",
        "\n",
        "7. **Find all projects with a budget greater than $1,000,000.**  \n",
        "\n",
        "8. **Retrieve all departments and their chairmen.**  \n",
        "\n",
        "9. **Find the total number of projects a specific professor is managing.**  \n",
        "\n",
        "10. **Find the names of graduate students and their major department.**  \n",
        "\n"
      ],
      "metadata": {
        "id": "HadH8a5T8Fip"
      }
    },
    {
      "cell_type": "code",
      "source": [],
      "metadata": {
        "id": "jD5YZedH8FUp"
      },
      "execution_count": null,
      "outputs": []
    }
  ]
}