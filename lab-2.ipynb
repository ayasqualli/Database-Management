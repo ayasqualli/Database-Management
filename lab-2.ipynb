{
  "cells": [
    {
      "cell_type": "markdown",
      "metadata": {
        "colab_type": "text",
        "id": "view-in-github"
      },
      "source": [
        "<a href=\"https://colab.research.google.com/gist/AnasAito/6e80b883c4ad57737b1bfece9ac60d5b/lab-2.ipynb\" target=\"_parent\"><img src=\"https://colab.research.google.com/assets/colab-badge.svg\" alt=\"Open In Colab\"/></a>"
      ]
    },
    {
      "cell_type": "markdown",
      "metadata": {
        "id": "PzoyeF-C9uPV"
      },
      "source": [
        "# SQL with Python\n",
        "This lab introduces SQL using Python and SQLite, a lightweight database system. You will learn how to:\n",
        "- Connect to an SQLite database.\n",
        "- Create tables and insert data.\n",
        "- Perform batch data insertion.\n",
        "- Query the database.\n",
        "\n",
        "SQLite is ideal for learning as it requires no additional setup and comes pre-installed with Python.\n"
      ]
    },
    {
      "cell_type": "markdown",
      "metadata": {
        "id": "yQZfRi6A91eD"
      },
      "source": [
        "## Install and Import Dependencies\n",
        "SQLite is included with Python, so no additional installation is required. However, we'll use pandas for CSV manipulation.\n"
      ]
    },
    {
      "cell_type": "code",
      "execution_count": 2,
      "metadata": {
        "id": "nfOQm4uL9gc0"
      },
      "outputs": [],
      "source": [
        "import sqlite3\n",
        "import pandas as pd\n"
      ]
    },
    {
      "cell_type": "markdown",
      "metadata": {
        "id": "N7JTiuQo94YJ"
      },
      "source": [
        "## Connect to SQLite Database\n",
        "We'll create or connect to an SQLite database file named `lab_2.db`. If the file doesn't exist, SQLite will create it.\n"
      ]
    },
    {
      "cell_type": "code",
      "execution_count": 10,
      "metadata": {
        "id": "MCME1KuZ954t"
      },
      "outputs": [
        {
          "name": "stdout",
          "output_type": "stream",
          "text": [
            "Database connection established.\n"
          ]
        }
      ],
      "source": [
        "# Connect to SQLite database\n",
        "connection = sqlite3.connect(\"lab_2.db\")\n",
        "\n",
        "# Create a cursor object to execute SQL commands\n",
        "cursor = connection.cursor()\n",
        "\n",
        "print(\"Database connection established.\")\n"
      ]
    },
    {
      "cell_type": "markdown",
      "metadata": {
        "id": "ntieE3OU-Dof"
      },
      "source": [
        "## Creating a Table\n",
        "We'll create a table called `Students` with the following schema:\n",
        "- `ID`: INTEGER, Primary Key\n",
        "- `Name`: TEXT\n",
        "- `Age`: INTEGER\n",
        "- `Grade`: TEXT\n"
      ]
    },
    {
      "cell_type": "code",
      "execution_count": 11,
      "metadata": {
        "id": "ejSNOzxd-Eyu"
      },
      "outputs": [
        {
          "name": "stdout",
          "output_type": "stream",
          "text": [
            "Table 'Students' created successfully.\n"
          ]
        }
      ],
      "source": [
        "# Create a table\n",
        "create_table_query = '''\n",
        "CREATE TABLE IF NOT EXISTS Students (\n",
        "    ID INTEGER PRIMARY KEY,\n",
        "    Name TEXT,\n",
        "    Age INTEGER,\n",
        "    Grade TEXT\n",
        ");\n",
        "'''\n",
        "cursor.execute(create_table_query)\n",
        "connection.commit()\n",
        "\n",
        "print(\"Table 'Students' created successfully.\")\n"
      ]
    },
    {
      "cell_type": "markdown",
      "metadata": {
        "id": "IGFV_Bmz-Kaj"
      },
      "source": [
        "## Inserting Data\n",
        "Insert a few records into the `Students` table.\n"
      ]
    },
    {
      "cell_type": "code",
      "execution_count": 12,
      "metadata": {
        "id": "OhClnK0L-L_k"
      },
      "outputs": [
        {
          "name": "stdout",
          "output_type": "stream",
          "text": [
            "Records inserted successfully.\n"
          ]
        }
      ],
      "source": [
        "\n",
        "insert_query = '''\n",
        "INSERT INTO Students (Name, Age, Grade)\n",
        "VALUES (?, ?, ?);\n",
        "'''\n",
        "\n",
        "# data\n",
        "students_data = [\n",
        "    ('Alice', 20, 'A'),\n",
        "    ('Bob', 22, 'B'),\n",
        "    ('Charlie', 21, 'A'),\n",
        "]\n",
        "\n",
        "\n",
        "cursor.executemany(insert_query, students_data)\n",
        "connection.commit()\n",
        "\n",
        "print(\"Records inserted successfully.\")\n"
      ]
    },
    {
      "cell_type": "markdown",
      "metadata": {
        "id": "tK6aF6TG-Uyw"
      },
      "source": [
        "## Querying Data\n",
        "Use SQL SELECT queries to retrieve data from the `Students` table.\n"
      ]
    },
    {
      "cell_type": "code",
      "execution_count": 13,
      "metadata": {
        "id": "MaTfBWjW-VjH"
      },
      "outputs": [
        {
          "name": "stdout",
          "output_type": "stream",
          "text": [
            "(1, 'Alice', 20, 'A')\n",
            "(2, 'Bob', 22, 'B')\n",
            "(3, 'Charlie', 21, 'A')\n",
            "(4, 'Alice', 20, 'A')\n",
            "(5, 'Bob', 22, 'B')\n",
            "(6, 'Charlie', 21, 'A')\n"
          ]
        }
      ],
      "source": [
        "# Retrieve data\n",
        "query = \"SELECT * FROM Students;\"\n",
        "cursor.execute(query)\n",
        "\n",
        "# Fetch and display results\n",
        "results = cursor.fetchall()\n",
        "for row in results:\n",
        "    print(row)\n"
      ]
    },
    {
      "cell_type": "markdown",
      "metadata": {
        "id": "KY8J_vgL-YFp"
      },
      "source": [
        "## Batch Insertion\n",
        "We will load data into a new table named `Employees`.\n",
        "The should contain the following columns:\n",
        "- `ID` (INTEGER)\n",
        "- `Name` (TEXT)\n",
        "- `Position` (TEXT)\n",
        "- `Salary` (REAL)\n",
        "\n",
        "Let's create the `Employees` table and write data to table .\n"
      ]
    },
    {
      "cell_type": "code",
      "execution_count": 16,
      "metadata": {
        "id": "RYCyq9xv-aH3"
      },
      "outputs": [
        {
          "name": "stdout",
          "output_type": "stream",
          "text": [
            "Data loaded from CSV and inserted into 'Employees' table.\n"
          ]
        }
      ],
      "source": [
        "# Create Employees table\n",
        "create_employees_table = '''\n",
        "CREATE TABLE IF NOT EXISTS Employees (\n",
        "    ID INTEGER PRIMARY KEY,\n",
        "    Name TEXT,\n",
        "    Position TEXT,\n",
        "    Salary REAL\n",
        ");\n",
        "'''\n",
        "cursor.execute(create_employees_table)\n",
        "\n",
        "#data\n",
        "csv_data = [\n",
        "    (1, 'John Doe', 'Manager', 75000.0),\n",
        "    (2, 'Jane Smith', 'Developer', 65000.0),\n",
        "    (3, 'Emily Davis', 'Designer', 50000.0),\n",
        "]\n",
        "\n",
        "# Insert data into Employees table\n",
        "insert_employees_query = '''\n",
        "INSERT INTO Employees (ID, Name, Position, Salary)\n",
        "VALUES (?, ?, ?, ?);\n",
        "'''\n",
        "\n",
        "cursor.executemany(insert_employees_query, csv_data)\n",
        "connection.commit()\n",
        "\n",
        "print(\"Data loaded from CSV and inserted into 'Employees' table.\")\n"
      ]
    },
    {
      "cell_type": "markdown",
      "metadata": {
        "id": "-AC6GtHB-o-Z"
      },
      "source": [
        "## Query Examples\n",
        "Let's perform some queries:\n",
        "1. Retrieve all employees earning more than $60,000.\n",
        "2. Count the number of employees.\n"
      ]
    },
    {
      "cell_type": "code",
      "execution_count": 7,
      "metadata": {
        "id": "B-TQPxLc-pzo"
      },
      "outputs": [
        {
          "name": "stdout",
          "output_type": "stream",
          "text": [
            "Employees earning more than $60,000:\n",
            "(1, 'John Doe', 'Manager', 75000.0)\n",
            "(2, 'Jane Smith', 'Developer', 65000.0)\n",
            "Total number of employees: 3\n"
          ]
        }
      ],
      "source": [
        "# Query: Employees earning more than $60,000\n",
        "query_high_salary = \"SELECT * FROM Employees WHERE Salary > 60000;\"\n",
        "cursor.execute(query_high_salary)\n",
        "# we use fetch all when we have multiple rows as output\n",
        "high_salary_employees = cursor.fetchall()\n",
        "print(\"Employees earning more than $60,000:\")\n",
        "for emp in high_salary_employees:\n",
        "    print(emp)\n",
        "\n",
        "# Query: Count the number of employees\n",
        "query_count = \"SELECT COUNT(*) FROM Employees;\"\n",
        "cursor.execute(query_count)\n",
        "# we use fetch all when we have multiple rows as output\n",
        "employee_count = cursor.fetchone()[0]\n",
        "print(f\"Total number of employees: {employee_count}\")\n"
      ]
    },
    {
      "cell_type": "markdown",
      "metadata": {
        "id": "LN2pI37T-sb-"
      },
      "source": [
        "## Closing the Database Connection\n",
        "Always close the database connection when you're done to ensure data integrity.\n"
      ]
    },
    {
      "cell_type": "code",
      "execution_count": 8,
      "metadata": {
        "id": "qtl2iZl4-tOQ"
      },
      "outputs": [
        {
          "name": "stdout",
          "output_type": "stream",
          "text": [
            "Database connection closed.\n"
          ]
        }
      ],
      "source": [
        "# Close the connection\n",
        "connection.close()\n",
        "print(\"Database connection closed.\")\n"
      ]
    },
    {
      "cell_type": "markdown",
      "metadata": {
        "id": "HadH8a5T8Fip"
      },
      "source": [
        "# It is your turn !\n",
        "## **Lab: Transform ER Diagram seen in Exercise 2.3 into SQL Tables**\n",
        "\n",
        "### **Objective**\n",
        "The goal of this lab is to transform the given ER diagram into SQL tables, populate the tables with sample data, and write SQL queries to answer specific questions.\n",
        "\n",
        "---\n",
        "\n",
        "### **Instructions**\n",
        "\n",
        "\n",
        "1. **Create SQL Tables**  \n",
        "   - Use `CREATE TABLE` statements to define tables for each entity and relationship.  \n",
        "   - Ensure proper use of primary keys, foreign keys, and data types.\n",
        "\n",
        "2. **Insert Sample Data**  \n",
        "   - Populate each table with at least 5–10 rows of sample data.\n",
        "\n",
        "3. **Write SQL Queries**  \n",
        "   - Use SQL queries to answer the provided questions.\n",
        "\n",
        "---\n",
        "\n",
        "### **Questions**\n",
        "\n",
        "1. **List all professors and their research specialties.**  \n",
        "\n",
        "2. **Retrieve all projects managed by a specific professor.**  \n",
        "\n",
        "3. **Find the names of graduate students working on a specific project.**  \n",
        "\n",
        "4. **Find professors supervising graduate students on a specific project.**  \n",
        "\n",
        "5. **Count how many professors work in each department.**  \n",
        "\n",
        "6. **List graduate students and their advisors.**  \n",
        "\n",
        "7. **Find all projects with a budget greater than $1,000,000.**  \n",
        "\n",
        "8. **Retrieve all departments and their chairmen.**  \n",
        "\n",
        "9. **Find the total number of projects a specific professor is managing.**  \n",
        "\n",
        "10. **Find the names of graduate students and their major department.**  \n",
        "\n"
      ]
    },
    {
      "cell_type": "markdown",
      "metadata": {},
      "source": [
        "## 1. Create and Connect Database"
      ]
    },
    {
      "cell_type": "code",
      "execution_count": 1,
      "metadata": {},
      "outputs": [],
      "source": [
        "import sqlite3\n",
        "import pandas as pd\n"
      ]
    },
    {
      "cell_type": "code",
      "execution_count": 2,
      "metadata": {},
      "outputs": [
        {
          "name": "stdout",
          "output_type": "stream",
          "text": [
            "Database connection established.\n"
          ]
        }
      ],
      "source": [
        "# Connect to SQLite database\n",
        "connection = sqlite3.connect(\"lab_2_questions.db\")\n",
        "\n",
        "# Create a cursor object to execute SQL commands\n",
        "cursor = connection.cursor()\n",
        "\n",
        "print(\"Database connection established.\")"
      ]
    },
    {
      "cell_type": "markdown",
      "metadata": {},
      "source": [
        "## 2. Create tables based on the ER diagram"
      ]
    },
    {
      "cell_type": "code",
      "execution_count": 3,
      "metadata": {},
      "outputs": [
        {
          "name": "stdout",
          "output_type": "stream",
          "text": [
            "Table Professor created successfully.\n",
            "Table Dept created successfully.\n",
            "Table Work_dept created successfully.\n",
            "Table Project created successfully.\n",
            "Table Works_in created successfully.\n",
            "Table Graduate created successfully.\n",
            "Table Supervises created successfully.\n",
            "Table Manages created successfully.\n",
            "Table Advisor created successfully.\n"
          ]
        }
      ],
      "source": [
        "with connection as conn:\n",
        "    create_statements = {\n",
        "        \"Professor\": \n",
        "        \"\"\"CREATE TABLE IF NOT EXISTS Professor (\n",
        "            prof_ssn CHAR,\n",
        "            name CHAR,\n",
        "            age INTEGER,\n",
        "            rank INTEGER,\n",
        "            speciality CHAR,\n",
        "            PRIMARY KEY (prof_ssn)\n",
        "        );\"\"\",\n",
        "        # Create Professor table first\n",
        "        \"Dept\": \n",
        "        \"\"\"CREATE TABLE IF NOT EXISTS Dept (\n",
        "            dno INTEGER,\n",
        "            office VARCHAR,\n",
        "            dname VARCHAR,\n",
        "            prof_ssn CHAR UNIQUE,\n",
        "            PRIMARY KEY (dno),\n",
        "            FOREIGN KEY (prof_ssn) REFERENCES Professor(prof_ssn) ON DELETE NO ACTION\n",
        "        );\"\"\",\n",
        "        # Create Dept table next\n",
        "        \"Work_dept\":\n",
        "        \"\"\"CREATE TABLE IF NOT EXISTS Work_dept (\n",
        "            prof_ssn CHAR,\n",
        "            dno INTEGER,\n",
        "            pc_time REAL,\n",
        "            PRIMARY KEY (prof_ssn, dno),\n",
        "            FOREIGN KEY (prof_ssn) REFERENCES Professor(prof_ssn),\n",
        "            FOREIGN KEY (dno) REFERENCES Dept(dno)\n",
        "        );\"\"\",\n",
        "        # Continue with the rest of the tables\n",
        "        \"Project\": \n",
        "        \"\"\"CREATE TABLE IF NOT EXISTS Project (\n",
        "            pid INTEGER,\n",
        "            start_date DATE,\n",
        "            end_date DATE,\n",
        "            budget REAL,\n",
        "            ssn CHAR,\n",
        "            sponsor CHAR,\n",
        "            PRIMARY KEY (pid),\n",
        "            FOREIGN KEY (ssn) REFERENCES Professor(prof_ssn)\n",
        "        );\"\"\",\n",
        "        \"Works_in\": \n",
        "        \"\"\"CREATE TABLE IF NOT EXISTS Works_in (\n",
        "            prof_ssn CHAR,\n",
        "            pid INTEGER,\n",
        "            PRIMARY KEY (pid, prof_ssn),\n",
        "            FOREIGN KEY (pid) REFERENCES Project(pid),\n",
        "            FOREIGN KEY (prof_ssn) REFERENCES Professor(prof_ssn)\n",
        "        );\"\"\",\n",
        "        \"Graduate\": \n",
        "        \"\"\"CREATE TABLE IF NOT EXISTS Graduate (\n",
        "            grad_ssn CHAR,\n",
        "            age INTEGER,\n",
        "            name VARCHAR,\n",
        "            deg_prog VARCHAR,\n",
        "            major INTEGER NOT NULL ,\n",
        "            PRIMARY KEY (grad_ssn),\n",
        "            FOREIGN KEY (major) REFERENCES Dept(dno)\n",
        "        );\"\"\",\n",
        "        \"Supervises\": \n",
        "        \"\"\"CREATE TABLE IF NOT EXISTS Supervises (\n",
        "            prof_ssn CHAR,\n",
        "            grad_ssn CHAR,\n",
        "            pid INTEGER,\n",
        "            PRIMARY KEY (pid, prof_ssn, grad_ssn),\n",
        "            FOREIGN KEY (pid) REFERENCES Project(pid),\n",
        "            FOREIGN KEY (prof_ssn) REFERENCES Professor(prof_ssn),\n",
        "            FOREIGN KEY (grad_ssn) REFERENCES Graduate(grad_ssn)\n",
        "        );\"\"\",\n",
        "        \"Manages\": \n",
        "        \"\"\"CREATE TABLE IF NOT EXISTS Manages (\n",
        "            pid INTEGER,\n",
        "            prof_ssn CHAR,\n",
        "            PRIMARY KEY (pid, prof_ssn),\n",
        "            FOREIGN KEY (prof_ssn) REFERENCES Professor(prof_ssn),\n",
        "            FOREIGN KEY (pid) REFERENCES Project(pid)\n",
        "        );\"\"\",\n",
        "        \"Advisor\": \n",
        "        \"\"\"CREATE TABLE IF NOT EXISTS Advisor (\n",
        "            senior_ssn CHAR,\n",
        "            grad_ssn CHAR,\n",
        "            PRIMARY KEY (senior_ssn, grad_ssn),\n",
        "            FOREIGN KEY (senior_ssn) REFERENCES Graduate(grad_ssn),\n",
        "            FOREIGN KEY (grad_ssn) REFERENCES Graduate(grad_ssn)\n",
        "        );\"\"\"\n",
        "    }\n",
        "    for table_name, create_statement in create_statements.items():\n",
        "        cursor.execute(create_statement)\n",
        "        connection.commit()\n",
        "        print(f\"Table {table_name} created successfully.\")"
      ]
    },
    {
      "cell_type": "markdown",
      "metadata": {},
      "source": [
        "## 3. Create dummy data to fill in the tables"
      ]
    },
    {
      "cell_type": "code",
      "execution_count": 4,
      "metadata": {},
      "outputs": [
        {
          "name": "stdout",
          "output_type": "stream",
          "text": [
            "Sample data inserted successfully into all tables.\n"
          ]
        }
      ],
      "source": [
        "# First, insert Professors\n",
        "professor_data = [\n",
        "    ('P001', 'John Smith', 45, 1, 'Database Systems'),\n",
        "    ('P002', 'Mary Johnson', 52, 2, 'Machine Learning'),\n",
        "    ('P003', 'Robert Brown', 38, 1, 'Cybersecurity'),\n",
        "    ('P004', 'Sarah Davis', 41, 2, 'Artificial Intelligence'),\n",
        "    ('P005', 'Michael Wilson', 55, 3, 'Software Engineering'),\n",
        "    ('P006', 'Emma Thompson', 47, 2, 'Computer Networks'),\n",
        "    ('P007', 'David Miller', 50, 3, 'Data Mining'),\n",
        "    ('P008', 'Lisa Anderson', 43, 1, 'Cloud Computing'),\n",
        "    ('P009', 'James Taylor', 39, 2, 'Web Technologies'),\n",
        "    ('P010', 'Patricia Moore', 46, 3, 'Computer Graphics'),\n",
        "    ('P011', 'Richard Lee', 51, 3, 'Robotics'),\n",
        "    ('P012', 'Jennifer White', 44, 2, 'Human-Computer Interaction'),\n",
        "    ('P013', 'Thomas Martin', 49, 1, 'Computer Vision'),\n",
        "    ('P014', 'Elizabeth Clark', 42, 2, 'Natural Language Processing'),\n",
        "    ('P015', 'William Wright', 53, 3, 'Quantum Computing')\n",
        "]\n",
        "\n",
        "cursor.executemany('''\n",
        "    INSERT INTO Professor (prof_ssn, name, age, rank, speciality)\n",
        "    VALUES (?, ?, ?, ?, ?)\n",
        "''', professor_data)\n",
        "\n",
        "# Departments\n",
        "dept_data = [\n",
        "    (1, 'Room 101', 'Computer Science', 'P001'),\n",
        "    (2, 'Room 201', 'Data Science', 'P002'),\n",
        "    (3, 'Room 301', 'Software Engineering', 'P003'),\n",
        "    (4, 'Room 401', 'Cybersecurity', 'P004'),\n",
        "    (5, 'Room 501', 'Artificial Intelligence', 'P005'),\n",
        "    (6, 'Room 601', 'Robotics', 'P011'),\n",
        "    (7, 'Room 701', 'Digital Media', 'P010'),\n",
        "    (8, 'Room 801', 'Information Systems', 'P007')\n",
        "]\n",
        "\n",
        "cursor.executemany('''\n",
        "    INSERT INTO Dept (dno, office, dname, prof_ssn)\n",
        "    VALUES (?, ?, ?, ?)\n",
        "''', dept_data)\n",
        "\n",
        "# Work_dept relationships (professors working in multiple departments)\n",
        "work_dept_data = [\n",
        "    ('P001', 1, 0.8), ('P001', 2, 0.2),  # Professor working in two departments\n",
        "    ('P002', 2, 0.7), ('P002', 5, 0.3),\n",
        "    ('P003', 3, 0.9), ('P003', 4, 0.1),\n",
        "    ('P004', 4, 0.6), ('P004', 5, 0.4),\n",
        "    ('P005', 5, 0.8), ('P005', 3, 0.2),\n",
        "    ('P006', 1, 0.5), ('P006', 4, 0.5),\n",
        "    ('P007', 2, 0.7), ('P007', 8, 0.3),\n",
        "    ('P008', 3, 0.6), ('P008', 1, 0.4),\n",
        "    ('P009', 4, 0.8), ('P009', 2, 0.2),\n",
        "    ('P010', 7, 0.9), ('P010', 5, 0.1),\n",
        "    ('P011', 6, 1.0),\n",
        "    ('P012', 1, 0.6), ('P012', 7, 0.4),\n",
        "    ('P013', 5, 0.7), ('P013', 6, 0.3),\n",
        "    ('P014', 2, 0.8), ('P014', 8, 0.2),\n",
        "    ('P015', 3, 0.5), ('P015', 6, 0.5)\n",
        "]\n",
        "\n",
        "cursor.executemany('''\n",
        "    INSERT INTO Work_dept (prof_ssn, dno, pc_time)\n",
        "    VALUES (?, ?, ?)\n",
        "''', work_dept_data)\n",
        "\n",
        "# Projects\n",
        "project_data = [\n",
        "    (1, '2023-01-01', '2024-01-01', 1500000.0, 'P001', 'Google'),\n",
        "    (2, '2023-02-01', '2024-06-01', 800000.0, 'P002', 'Microsoft'),\n",
        "    (3, '2023-03-15', '2024-03-15', 2200000.0, 'P003', 'Amazon'),\n",
        "    (4, '2023-04-01', '2024-12-01', 2000000.0, 'P004', 'Apple'),\n",
        "    (5, '2023-05-01', '2024-05-01', 900000.0, 'P005', 'Meta'),\n",
        "    (6, '2023-06-01', '2024-08-01', 1100000.0, 'P006', 'IBM'),\n",
        "    (7, '2023-07-01', '2024-07-01', 750000.0, 'P007', 'Oracle'),\n",
        "    (8, '2023-08-01', '2024-04-01', 1300000.0, 'P008', 'Intel'),\n",
        "    (9, '2023-09-01', '2024-09-01', 950000.0, 'P009', 'NVIDIA'),\n",
        "    (10, '2023-10-01', '2024-10-01', 1700000.0, 'P010', 'AMD'),\n",
        "    (11, '2023-11-01', '2024-11-01', 2500000.0, 'P011', 'Tesla'),\n",
        "    (12, '2023-12-01', '2024-12-01', 1800000.0, 'P012', 'SpaceX'),\n",
        "    (13, '2024-01-01', '2025-01-01', 1600000.0, 'P013', 'Samsung'),\n",
        "    (14, '2024-02-01', '2025-02-01', 1900000.0, 'P014', 'Huawei'),\n",
        "    (15, '2024-03-01', '2025-03-01', 2100000.0, 'P015', 'Sony')\n",
        "]\n",
        "\n",
        "cursor.executemany('''\n",
        "    INSERT INTO Project (pid, start_date, end_date, budget, ssn, sponsor)\n",
        "    VALUES (?, ?, ?, ?, ?, ?)\n",
        "''', project_data)\n",
        "\n",
        "# Graduate students \n",
        "graduate_data = [\n",
        "    ('G001', 25, 'Alex Wilson', 'PhD', 1),\n",
        "    ('G002', 23, 'Emily Brown', 'MS', 2),\n",
        "    ('G003', 27, 'Chris Lee', 'PhD', 3),\n",
        "    ('G004', 24, 'Diana Kim', 'MS', 4),\n",
        "    ('G005', 26, 'Frank Chen', 'PhD', 5),\n",
        "    ('G006', 25, 'Grace Liu', 'MS', 1),\n",
        "    ('G007', 28, 'Henry Park', 'PhD', 2),\n",
        "    ('G008', 24, 'Isabel Cruz', 'MS', 3),\n",
        "    ('G009', 26, 'Jack Zhang', 'PhD', 4),\n",
        "    ('G010', 23, 'Kelly Wong', 'MS', 5),\n",
        "    ('G011', 25, 'Larry Foster', 'PhD', 6),\n",
        "    ('G012', 24, 'Monica Patel', 'MS', 7),\n",
        "    ('G013', 27, 'Nathan Rodriguez', 'PhD', 8),\n",
        "    ('G014', 26, 'Olivia Thompson', 'MS', 1),\n",
        "    ('G015', 29, 'Peter Chang', 'PhD', 2),\n",
        "    ('G016', 23, 'Quinn Martinez', 'MS', 3),\n",
        "    ('G017', 25, 'Rachel Kim', 'PhD', 4),\n",
        "    ('G018', 24, 'Steven Johnson', 'MS', 5),\n",
        "    ('G019', 28, 'Tina Liu', 'PhD', 6),\n",
        "    ('G020', 26, 'Victor Garcia', 'MS', 7)\n",
        "]\n",
        "\n",
        "cursor.executemany('''\n",
        "    INSERT INTO Graduate (grad_ssn, age, name, deg_prog, major)\n",
        "    VALUES (?, ?, ?, ?, ?)\n",
        "''', graduate_data)\n",
        "\n",
        "# Supervision relationships\n",
        "supervises_data = [\n",
        "    ('P001', 'G001', 1), ('P001', 'G006', 1),  # Two students on same project\n",
        "    ('P002', 'G002', 2), ('P002', 'G007', 2),\n",
        "    ('P003', 'G003', 3), ('P003', 'G008', 3),\n",
        "    ('P004', 'G004', 4), ('P004', 'G009', 4),\n",
        "    ('P005', 'G005', 5), ('P005', 'G010', 5),\n",
        "    ('P006', 'G011', 6), ('P006', 'G014', 6),\n",
        "    ('P007', 'G012', 7), ('P007', 'G015', 7),\n",
        "    ('P008', 'G013', 8), ('P008', 'G016', 8),\n",
        "    ('P009', 'G017', 9), ('P009', 'G018', 9),\n",
        "    ('P010', 'G019', 10), ('P010', 'G020', 10)\n",
        "]\n",
        "\n",
        "cursor.executemany('''\n",
        "    INSERT INTO Supervises (prof_ssn, grad_ssn, pid)\n",
        "    VALUES (?, ?, ?)\n",
        "''', supervises_data)\n",
        "\n",
        "# Project management relationships\n",
        "manages_data = [\n",
        "    (1, 'P001'), (2, 'P001'),\n",
        "    (3, 'P002'), (4, 'P002'),\n",
        "    (5, 'P003'),\n",
        "    (6, 'P004'),\n",
        "    (7, 'P005'),\n",
        "    (8, 'P006'),\n",
        "    (9, 'P007'),\n",
        "    (10, 'P008'),\n",
        "    (11, 'P009'),\n",
        "    (12, 'P010'),\n",
        "    (13, 'P011'),\n",
        "    (14, 'P012'),\n",
        "    (15, 'P013')\n",
        "]\n",
        "\n",
        "cursor.executemany('''\n",
        "    INSERT INTO Manages (pid, prof_ssn)\n",
        "    VALUES (?, ?)\n",
        "''', manages_data)\n",
        "\n",
        "advisor_data = [\n",
        "    ('G001', 'G002'), ('G001', 'G006'),  # Senior student advising multiple juniors\n",
        "    ('G003', 'G004'), ('G003', 'G008'),\n",
        "    ('G005', 'G010'), ('G005', 'G018'),\n",
        "    ('G007', 'G012'), ('G007', 'G016'),\n",
        "    ('G009', 'G014'), ('G009', 'G020'),\n",
        "    ('G011', 'G015'),\n",
        "    ('G013', 'G017'),\n",
        "    ('G015', 'G019')\n",
        "]\n",
        "\n",
        "cursor.executemany('''\n",
        "    INSERT INTO Advisor (senior_ssn, grad_ssn)\n",
        "    VALUES (?, ?)\n",
        "''', advisor_data)\n",
        "\n",
        "# Commit all changes\n",
        "connection.commit()\n",
        "print(\"Sample data inserted successfully into all tables.\")"
      ]
    },
    {
      "cell_type": "markdown",
      "metadata": {},
      "source": [
        "# Questions (SQL Queries)"
      ]
    },
    {
      "cell_type": "markdown",
      "metadata": {},
      "source": [
        "### 1. List all professors and their research specialties"
      ]
    },
    {
      "cell_type": "code",
      "execution_count": 5,
      "metadata": {},
      "outputs": [
        {
          "name": "stdout",
          "output_type": "stream",
          "text": [
            "Professors and their specialties:\n"
          ]
        },
        {
          "data": {
            "text/html": [
              "<div>\n",
              "<style scoped>\n",
              "    .dataframe tbody tr th:only-of-type {\n",
              "        vertical-align: middle;\n",
              "    }\n",
              "\n",
              "    .dataframe tbody tr th {\n",
              "        vertical-align: top;\n",
              "    }\n",
              "\n",
              "    .dataframe thead th {\n",
              "        text-align: right;\n",
              "    }\n",
              "</style>\n",
              "<table border=\"1\" class=\"dataframe\">\n",
              "  <thead>\n",
              "    <tr style=\"text-align: right;\">\n",
              "      <th></th>\n",
              "      <th>prof_ssn</th>\n",
              "      <th>name</th>\n",
              "      <th>speciality</th>\n",
              "    </tr>\n",
              "  </thead>\n",
              "  <tbody>\n",
              "    <tr>\n",
              "      <th>0</th>\n",
              "      <td>P001</td>\n",
              "      <td>John Smith</td>\n",
              "      <td>Database Systems</td>\n",
              "    </tr>\n",
              "    <tr>\n",
              "      <th>1</th>\n",
              "      <td>P002</td>\n",
              "      <td>Mary Johnson</td>\n",
              "      <td>Machine Learning</td>\n",
              "    </tr>\n",
              "    <tr>\n",
              "      <th>2</th>\n",
              "      <td>P003</td>\n",
              "      <td>Robert Brown</td>\n",
              "      <td>Cybersecurity</td>\n",
              "    </tr>\n",
              "    <tr>\n",
              "      <th>3</th>\n",
              "      <td>P004</td>\n",
              "      <td>Sarah Davis</td>\n",
              "      <td>Artificial Intelligence</td>\n",
              "    </tr>\n",
              "    <tr>\n",
              "      <th>4</th>\n",
              "      <td>P005</td>\n",
              "      <td>Michael Wilson</td>\n",
              "      <td>Software Engineering</td>\n",
              "    </tr>\n",
              "    <tr>\n",
              "      <th>5</th>\n",
              "      <td>P006</td>\n",
              "      <td>Emma Thompson</td>\n",
              "      <td>Computer Networks</td>\n",
              "    </tr>\n",
              "    <tr>\n",
              "      <th>6</th>\n",
              "      <td>P007</td>\n",
              "      <td>David Miller</td>\n",
              "      <td>Data Mining</td>\n",
              "    </tr>\n",
              "    <tr>\n",
              "      <th>7</th>\n",
              "      <td>P008</td>\n",
              "      <td>Lisa Anderson</td>\n",
              "      <td>Cloud Computing</td>\n",
              "    </tr>\n",
              "    <tr>\n",
              "      <th>8</th>\n",
              "      <td>P009</td>\n",
              "      <td>James Taylor</td>\n",
              "      <td>Web Technologies</td>\n",
              "    </tr>\n",
              "    <tr>\n",
              "      <th>9</th>\n",
              "      <td>P010</td>\n",
              "      <td>Patricia Moore</td>\n",
              "      <td>Computer Graphics</td>\n",
              "    </tr>\n",
              "    <tr>\n",
              "      <th>10</th>\n",
              "      <td>P011</td>\n",
              "      <td>Richard Lee</td>\n",
              "      <td>Robotics</td>\n",
              "    </tr>\n",
              "    <tr>\n",
              "      <th>11</th>\n",
              "      <td>P012</td>\n",
              "      <td>Jennifer White</td>\n",
              "      <td>Human-Computer Interaction</td>\n",
              "    </tr>\n",
              "    <tr>\n",
              "      <th>12</th>\n",
              "      <td>P013</td>\n",
              "      <td>Thomas Martin</td>\n",
              "      <td>Computer Vision</td>\n",
              "    </tr>\n",
              "    <tr>\n",
              "      <th>13</th>\n",
              "      <td>P014</td>\n",
              "      <td>Elizabeth Clark</td>\n",
              "      <td>Natural Language Processing</td>\n",
              "    </tr>\n",
              "    <tr>\n",
              "      <th>14</th>\n",
              "      <td>P015</td>\n",
              "      <td>William Wright</td>\n",
              "      <td>Quantum Computing</td>\n",
              "    </tr>\n",
              "  </tbody>\n",
              "</table>\n",
              "</div>"
            ],
            "text/plain": [
              "   prof_ssn             name                   speciality\n",
              "0      P001       John Smith             Database Systems\n",
              "1      P002     Mary Johnson             Machine Learning\n",
              "2      P003     Robert Brown                Cybersecurity\n",
              "3      P004      Sarah Davis      Artificial Intelligence\n",
              "4      P005   Michael Wilson         Software Engineering\n",
              "5      P006    Emma Thompson            Computer Networks\n",
              "6      P007     David Miller                  Data Mining\n",
              "7      P008    Lisa Anderson              Cloud Computing\n",
              "8      P009     James Taylor             Web Technologies\n",
              "9      P010   Patricia Moore            Computer Graphics\n",
              "10     P011      Richard Lee                     Robotics\n",
              "11     P012   Jennifer White   Human-Computer Interaction\n",
              "12     P013    Thomas Martin              Computer Vision\n",
              "13     P014  Elizabeth Clark  Natural Language Processing\n",
              "14     P015   William Wright            Quantum Computing"
            ]
          },
          "metadata": {},
          "output_type": "display_data"
        }
      ],
      "source": [
        "\n",
        "query_specialties = \"SELECT prof_ssn, name, speciality FROM Professor;\"\n",
        "cursor.execute(query_specialties)\n",
        "\n",
        "# Get column names from cursor description\n",
        "columns = [description[0] for description in cursor.description]\n",
        "\n",
        "# Create DataFrame with results\n",
        "results_df = pd.DataFrame(cursor.fetchall(), columns=columns)\n",
        "\n",
        "print(\"Professors and their specialties:\")\n",
        "display(results_df)"
      ]
    },
    {
      "cell_type": "markdown",
      "metadata": {},
      "source": [
        "### 2.Retrieve all projects managed by a specific professor (for example \"Robert Brown\")"
      ]
    },
    {
      "cell_type": "code",
      "execution_count": 6,
      "metadata": {},
      "outputs": [
        {
          "name": "stdout",
          "output_type": "stream",
          "text": [
            "Projects managed by Professor: Robert Brown\n"
          ]
        },
        {
          "data": {
            "text/html": [
              "<div>\n",
              "<style scoped>\n",
              "    .dataframe tbody tr th:only-of-type {\n",
              "        vertical-align: middle;\n",
              "    }\n",
              "\n",
              "    .dataframe tbody tr th {\n",
              "        vertical-align: top;\n",
              "    }\n",
              "\n",
              "    .dataframe thead th {\n",
              "        text-align: right;\n",
              "    }\n",
              "</style>\n",
              "<table border=\"1\" class=\"dataframe\">\n",
              "  <thead>\n",
              "    <tr style=\"text-align: right;\">\n",
              "      <th></th>\n",
              "      <th>name</th>\n",
              "      <th>pid</th>\n",
              "      <th>start_date</th>\n",
              "      <th>end_date</th>\n",
              "      <th>budget</th>\n",
              "      <th>sponsor</th>\n",
              "    </tr>\n",
              "  </thead>\n",
              "  <tbody>\n",
              "    <tr>\n",
              "      <th>0</th>\n",
              "      <td>Robert Brown</td>\n",
              "      <td>3</td>\n",
              "      <td>2023-03-15</td>\n",
              "      <td>2024-03-15</td>\n",
              "      <td>2200000.0</td>\n",
              "      <td>Amazon</td>\n",
              "    </tr>\n",
              "  </tbody>\n",
              "</table>\n",
              "</div>"
            ],
            "text/plain": [
              "           name  pid  start_date    end_date     budget sponsor\n",
              "0  Robert Brown    3  2023-03-15  2024-03-15  2200000.0  Amazon"
            ]
          },
          "metadata": {},
          "output_type": "display_data"
        }
      ],
      "source": [
        "\n",
        "query_projects = \"SELECT name, P.pid, P.start_date, P.end_date, P.budget, P.sponsor FROM PROJECT P JOIN Professor prof ON P.ssn = prof.prof_ssn WHERE name = 'Robert Brown';\"\n",
        "cursor.execute(query_projects)\n",
        "columns = [description[0] for description in cursor.description]\n",
        "results_df = pd.DataFrame(cursor.fetchall(), columns=columns)\n",
        "print(\"Projects managed by Professor: Robert Brown\")\n",
        "display(results_df)"
      ]
    },
    {
      "cell_type": "markdown",
      "metadata": {},
      "source": [
        "### 3.Find the names of graduate students working on a specific project.(For example Project 8)"
      ]
    },
    {
      "cell_type": "code",
      "execution_count": 7,
      "metadata": {},
      "outputs": [
        {
          "name": "stdout",
          "output_type": "stream",
          "text": [
            "Graduate students working on Project 8:\n"
          ]
        },
        {
          "data": {
            "text/html": [
              "<div>\n",
              "<style scoped>\n",
              "    .dataframe tbody tr th:only-of-type {\n",
              "        vertical-align: middle;\n",
              "    }\n",
              "\n",
              "    .dataframe tbody tr th {\n",
              "        vertical-align: top;\n",
              "    }\n",
              "\n",
              "    .dataframe thead th {\n",
              "        text-align: right;\n",
              "    }\n",
              "</style>\n",
              "<table border=\"1\" class=\"dataframe\">\n",
              "  <thead>\n",
              "    <tr style=\"text-align: right;\">\n",
              "      <th></th>\n",
              "      <th>name</th>\n",
              "    </tr>\n",
              "  </thead>\n",
              "  <tbody>\n",
              "    <tr>\n",
              "      <th>0</th>\n",
              "      <td>Nathan Rodriguez</td>\n",
              "    </tr>\n",
              "    <tr>\n",
              "      <th>1</th>\n",
              "      <td>Quinn Martinez</td>\n",
              "    </tr>\n",
              "  </tbody>\n",
              "</table>\n",
              "</div>"
            ],
            "text/plain": [
              "               name\n",
              "0  Nathan Rodriguez\n",
              "1    Quinn Martinez"
            ]
          },
          "metadata": {},
          "output_type": "display_data"
        }
      ],
      "source": [
        "query_students = \"SELECT Grad.name FROM Graduate Grad JOIN Supervises ON  Grad.grad_ssn = Supervises.grad_ssn WHERE pid = '8';\"  \n",
        "cursor.execute(query_students)\n",
        "columns = [description[0] for description in cursor.description]\n",
        "results_df = pd.DataFrame(cursor.fetchall(), columns=columns)\n",
        "print(\"Graduate students working on Project 8:\")\n",
        "display(results_df)"
      ]
    },
    {
      "cell_type": "markdown",
      "metadata": {},
      "source": [
        "### 4. Find professors supervising graduate students on a specific project (for example Project 6)."
      ]
    },
    {
      "cell_type": "code",
      "execution_count": 8,
      "metadata": {},
      "outputs": [
        {
          "name": "stdout",
          "output_type": "stream",
          "text": [
            "Professors supervising graduate students working on Project 6:\n"
          ]
        },
        {
          "data": {
            "text/html": [
              "<div>\n",
              "<style scoped>\n",
              "    .dataframe tbody tr th:only-of-type {\n",
              "        vertical-align: middle;\n",
              "    }\n",
              "\n",
              "    .dataframe tbody tr th {\n",
              "        vertical-align: top;\n",
              "    }\n",
              "\n",
              "    .dataframe thead th {\n",
              "        text-align: right;\n",
              "    }\n",
              "</style>\n",
              "<table border=\"1\" class=\"dataframe\">\n",
              "  <thead>\n",
              "    <tr style=\"text-align: right;\">\n",
              "      <th></th>\n",
              "      <th>name</th>\n",
              "    </tr>\n",
              "  </thead>\n",
              "  <tbody>\n",
              "    <tr>\n",
              "      <th>0</th>\n",
              "      <td>Emma Thompson</td>\n",
              "    </tr>\n",
              "    <tr>\n",
              "      <th>1</th>\n",
              "      <td>Emma Thompson</td>\n",
              "    </tr>\n",
              "  </tbody>\n",
              "</table>\n",
              "</div>"
            ],
            "text/plain": [
              "            name\n",
              "0  Emma Thompson\n",
              "1  Emma Thompson"
            ]
          },
          "metadata": {},
          "output_type": "display_data"
        }
      ],
      "source": [
        "# 4. Find professors supervising graduate students on a specific project (e.g., project 6)\n",
        "query_supervisors = \"SELECT prof.name FROM Professor prof JOIN Supervises ON prof.prof_ssn = Supervises.prof_ssn WHERE pid='6';\" \n",
        "cursor.execute(query_supervisors)\n",
        "columns = [description[0] for description in cursor.description]\n",
        "results_df = pd.DataFrame(cursor.fetchall(), columns=columns)\n",
        "print(\"Professors supervising graduate students working on Project 6:\")\n",
        "display(results_df)"
      ]
    },
    {
      "cell_type": "markdown",
      "metadata": {},
      "source": [
        "### 5. Count how many professors work in each department."
      ]
    },
    {
      "cell_type": "code",
      "execution_count": 9,
      "metadata": {},
      "outputs": [
        {
          "name": "stdout",
          "output_type": "stream",
          "text": [
            "Number of professors per department:\n"
          ]
        },
        {
          "data": {
            "text/html": [
              "<div>\n",
              "<style scoped>\n",
              "    .dataframe tbody tr th:only-of-type {\n",
              "        vertical-align: middle;\n",
              "    }\n",
              "\n",
              "    .dataframe tbody tr th {\n",
              "        vertical-align: top;\n",
              "    }\n",
              "\n",
              "    .dataframe thead th {\n",
              "        text-align: right;\n",
              "    }\n",
              "</style>\n",
              "<table border=\"1\" class=\"dataframe\">\n",
              "  <thead>\n",
              "    <tr style=\"text-align: right;\">\n",
              "      <th></th>\n",
              "      <th>dno</th>\n",
              "      <th>dname</th>\n",
              "      <th>professor_count</th>\n",
              "    </tr>\n",
              "  </thead>\n",
              "  <tbody>\n",
              "    <tr>\n",
              "      <th>0</th>\n",
              "      <td>1</td>\n",
              "      <td>Computer Science</td>\n",
              "      <td>4</td>\n",
              "    </tr>\n",
              "    <tr>\n",
              "      <th>1</th>\n",
              "      <td>2</td>\n",
              "      <td>Data Science</td>\n",
              "      <td>5</td>\n",
              "    </tr>\n",
              "    <tr>\n",
              "      <th>2</th>\n",
              "      <td>3</td>\n",
              "      <td>Software Engineering</td>\n",
              "      <td>4</td>\n",
              "    </tr>\n",
              "    <tr>\n",
              "      <th>3</th>\n",
              "      <td>4</td>\n",
              "      <td>Cybersecurity</td>\n",
              "      <td>4</td>\n",
              "    </tr>\n",
              "    <tr>\n",
              "      <th>4</th>\n",
              "      <td>5</td>\n",
              "      <td>Artificial Intelligence</td>\n",
              "      <td>5</td>\n",
              "    </tr>\n",
              "    <tr>\n",
              "      <th>5</th>\n",
              "      <td>6</td>\n",
              "      <td>Robotics</td>\n",
              "      <td>3</td>\n",
              "    </tr>\n",
              "    <tr>\n",
              "      <th>6</th>\n",
              "      <td>7</td>\n",
              "      <td>Digital Media</td>\n",
              "      <td>2</td>\n",
              "    </tr>\n",
              "    <tr>\n",
              "      <th>7</th>\n",
              "      <td>8</td>\n",
              "      <td>Information Systems</td>\n",
              "      <td>2</td>\n",
              "    </tr>\n",
              "  </tbody>\n",
              "</table>\n",
              "</div>"
            ],
            "text/plain": [
              "   dno                    dname  professor_count\n",
              "0    1         Computer Science                4\n",
              "1    2             Data Science                5\n",
              "2    3     Software Engineering                4\n",
              "3    4            Cybersecurity                4\n",
              "4    5  Artificial Intelligence                5\n",
              "5    6                 Robotics                3\n",
              "6    7            Digital Media                2\n",
              "7    8      Information Systems                2"
            ]
          },
          "metadata": {},
          "output_type": "display_data"
        }
      ],
      "source": [
        "# 5. Count how many professors work in each department\n",
        "query_dept_count = \"SELECT Dept.dno, Dept.dname, COUNT(*) AS professor_count FROM Dept JOIN Work_dept ON Dept.dno = Work_dept.dno GROUP BY Dept.dno, Dept.dname;\"\n",
        "cursor.execute(query_dept_count)\n",
        "columns = [description[0] for description in cursor.description]\n",
        "results_df = pd.DataFrame(cursor.fetchall(), columns=columns)\n",
        "print(\"Number of professors per department:\")\n",
        "display(results_df)"
      ]
    },
    {
      "cell_type": "markdown",
      "metadata": {},
      "source": [
        "### 6.List graduate students and their advisors."
      ]
    },
    {
      "cell_type": "code",
      "execution_count": 10,
      "metadata": {},
      "outputs": [
        {
          "name": "stdout",
          "output_type": "stream",
          "text": [
            "Graduate students and their advisors:\n"
          ]
        },
        {
          "data": {
            "text/html": [
              "<div>\n",
              "<style scoped>\n",
              "    .dataframe tbody tr th:only-of-type {\n",
              "        vertical-align: middle;\n",
              "    }\n",
              "\n",
              "    .dataframe tbody tr th {\n",
              "        vertical-align: top;\n",
              "    }\n",
              "\n",
              "    .dataframe thead th {\n",
              "        text-align: right;\n",
              "    }\n",
              "</style>\n",
              "<table border=\"1\" class=\"dataframe\">\n",
              "  <thead>\n",
              "    <tr style=\"text-align: right;\">\n",
              "      <th></th>\n",
              "      <th>student</th>\n",
              "      <th>advisor</th>\n",
              "    </tr>\n",
              "  </thead>\n",
              "  <tbody>\n",
              "    <tr>\n",
              "      <th>0</th>\n",
              "      <td>Emily Brown</td>\n",
              "      <td>Alex Wilson</td>\n",
              "    </tr>\n",
              "    <tr>\n",
              "      <th>1</th>\n",
              "      <td>Grace Liu</td>\n",
              "      <td>Alex Wilson</td>\n",
              "    </tr>\n",
              "    <tr>\n",
              "      <th>2</th>\n",
              "      <td>Diana Kim</td>\n",
              "      <td>Chris Lee</td>\n",
              "    </tr>\n",
              "    <tr>\n",
              "      <th>3</th>\n",
              "      <td>Isabel Cruz</td>\n",
              "      <td>Chris Lee</td>\n",
              "    </tr>\n",
              "    <tr>\n",
              "      <th>4</th>\n",
              "      <td>Kelly Wong</td>\n",
              "      <td>Frank Chen</td>\n",
              "    </tr>\n",
              "    <tr>\n",
              "      <th>5</th>\n",
              "      <td>Steven Johnson</td>\n",
              "      <td>Frank Chen</td>\n",
              "    </tr>\n",
              "    <tr>\n",
              "      <th>6</th>\n",
              "      <td>Monica Patel</td>\n",
              "      <td>Henry Park</td>\n",
              "    </tr>\n",
              "    <tr>\n",
              "      <th>7</th>\n",
              "      <td>Quinn Martinez</td>\n",
              "      <td>Henry Park</td>\n",
              "    </tr>\n",
              "    <tr>\n",
              "      <th>8</th>\n",
              "      <td>Olivia Thompson</td>\n",
              "      <td>Jack Zhang</td>\n",
              "    </tr>\n",
              "    <tr>\n",
              "      <th>9</th>\n",
              "      <td>Victor Garcia</td>\n",
              "      <td>Jack Zhang</td>\n",
              "    </tr>\n",
              "    <tr>\n",
              "      <th>10</th>\n",
              "      <td>Peter Chang</td>\n",
              "      <td>Larry Foster</td>\n",
              "    </tr>\n",
              "    <tr>\n",
              "      <th>11</th>\n",
              "      <td>Rachel Kim</td>\n",
              "      <td>Nathan Rodriguez</td>\n",
              "    </tr>\n",
              "    <tr>\n",
              "      <th>12</th>\n",
              "      <td>Tina Liu</td>\n",
              "      <td>Peter Chang</td>\n",
              "    </tr>\n",
              "  </tbody>\n",
              "</table>\n",
              "</div>"
            ],
            "text/plain": [
              "            student           advisor\n",
              "0       Emily Brown       Alex Wilson\n",
              "1         Grace Liu       Alex Wilson\n",
              "2         Diana Kim         Chris Lee\n",
              "3       Isabel Cruz         Chris Lee\n",
              "4        Kelly Wong        Frank Chen\n",
              "5    Steven Johnson        Frank Chen\n",
              "6      Monica Patel        Henry Park\n",
              "7    Quinn Martinez        Henry Park\n",
              "8   Olivia Thompson        Jack Zhang\n",
              "9     Victor Garcia        Jack Zhang\n",
              "10      Peter Chang      Larry Foster\n",
              "11       Rachel Kim  Nathan Rodriguez\n",
              "12         Tina Liu       Peter Chang"
            ]
          },
          "metadata": {},
          "output_type": "display_data"
        }
      ],
      "source": [
        "# 6. List graduate students and their advisors\n",
        "query_advisors = \"\"\"SELECT g1.name as student, g2.name as advisor FROM Graduate g1 JOIN Advisor a ON g1.grad_ssn = a.grad_ssn JOIN Graduate g2 ON a.senior_ssn = g2.grad_ssn;\n",
        "\"\"\"\n",
        "cursor.execute(query_advisors)\n",
        "columns = [description[0] for description in cursor.description]\n",
        "results_df = pd.DataFrame(cursor.fetchall(), columns=columns)\n",
        "print(\"Graduate students and their advisors:\")\n",
        "display(results_df)"
      ]
    },
    {
      "cell_type": "markdown",
      "metadata": {},
      "source": [
        "### 7.Find all projects with a budget greater than $1,000,000."
      ]
    },
    {
      "cell_type": "code",
      "execution_count": 11,
      "metadata": {},
      "outputs": [
        {
          "name": "stdout",
          "output_type": "stream",
          "text": [
            "High-budget projects (>$1,000,000):\n"
          ]
        },
        {
          "data": {
            "text/html": [
              "<div>\n",
              "<style scoped>\n",
              "    .dataframe tbody tr th:only-of-type {\n",
              "        vertical-align: middle;\n",
              "    }\n",
              "\n",
              "    .dataframe tbody tr th {\n",
              "        vertical-align: top;\n",
              "    }\n",
              "\n",
              "    .dataframe thead th {\n",
              "        text-align: right;\n",
              "    }\n",
              "</style>\n",
              "<table border=\"1\" class=\"dataframe\">\n",
              "  <thead>\n",
              "    <tr style=\"text-align: right;\">\n",
              "      <th></th>\n",
              "      <th>pid</th>\n",
              "      <th>start_date</th>\n",
              "      <th>end_date</th>\n",
              "      <th>budget</th>\n",
              "      <th>ssn</th>\n",
              "      <th>sponsor</th>\n",
              "    </tr>\n",
              "  </thead>\n",
              "  <tbody>\n",
              "    <tr>\n",
              "      <th>0</th>\n",
              "      <td>1</td>\n",
              "      <td>2023-01-01</td>\n",
              "      <td>2024-01-01</td>\n",
              "      <td>1500000.0</td>\n",
              "      <td>P001</td>\n",
              "      <td>Google</td>\n",
              "    </tr>\n",
              "    <tr>\n",
              "      <th>1</th>\n",
              "      <td>3</td>\n",
              "      <td>2023-03-15</td>\n",
              "      <td>2024-03-15</td>\n",
              "      <td>2200000.0</td>\n",
              "      <td>P003</td>\n",
              "      <td>Amazon</td>\n",
              "    </tr>\n",
              "    <tr>\n",
              "      <th>2</th>\n",
              "      <td>4</td>\n",
              "      <td>2023-04-01</td>\n",
              "      <td>2024-12-01</td>\n",
              "      <td>2000000.0</td>\n",
              "      <td>P004</td>\n",
              "      <td>Apple</td>\n",
              "    </tr>\n",
              "    <tr>\n",
              "      <th>3</th>\n",
              "      <td>6</td>\n",
              "      <td>2023-06-01</td>\n",
              "      <td>2024-08-01</td>\n",
              "      <td>1100000.0</td>\n",
              "      <td>P006</td>\n",
              "      <td>IBM</td>\n",
              "    </tr>\n",
              "    <tr>\n",
              "      <th>4</th>\n",
              "      <td>8</td>\n",
              "      <td>2023-08-01</td>\n",
              "      <td>2024-04-01</td>\n",
              "      <td>1300000.0</td>\n",
              "      <td>P008</td>\n",
              "      <td>Intel</td>\n",
              "    </tr>\n",
              "    <tr>\n",
              "      <th>5</th>\n",
              "      <td>10</td>\n",
              "      <td>2023-10-01</td>\n",
              "      <td>2024-10-01</td>\n",
              "      <td>1700000.0</td>\n",
              "      <td>P010</td>\n",
              "      <td>AMD</td>\n",
              "    </tr>\n",
              "    <tr>\n",
              "      <th>6</th>\n",
              "      <td>11</td>\n",
              "      <td>2023-11-01</td>\n",
              "      <td>2024-11-01</td>\n",
              "      <td>2500000.0</td>\n",
              "      <td>P011</td>\n",
              "      <td>Tesla</td>\n",
              "    </tr>\n",
              "    <tr>\n",
              "      <th>7</th>\n",
              "      <td>12</td>\n",
              "      <td>2023-12-01</td>\n",
              "      <td>2024-12-01</td>\n",
              "      <td>1800000.0</td>\n",
              "      <td>P012</td>\n",
              "      <td>SpaceX</td>\n",
              "    </tr>\n",
              "    <tr>\n",
              "      <th>8</th>\n",
              "      <td>13</td>\n",
              "      <td>2024-01-01</td>\n",
              "      <td>2025-01-01</td>\n",
              "      <td>1600000.0</td>\n",
              "      <td>P013</td>\n",
              "      <td>Samsung</td>\n",
              "    </tr>\n",
              "    <tr>\n",
              "      <th>9</th>\n",
              "      <td>14</td>\n",
              "      <td>2024-02-01</td>\n",
              "      <td>2025-02-01</td>\n",
              "      <td>1900000.0</td>\n",
              "      <td>P014</td>\n",
              "      <td>Huawei</td>\n",
              "    </tr>\n",
              "    <tr>\n",
              "      <th>10</th>\n",
              "      <td>15</td>\n",
              "      <td>2024-03-01</td>\n",
              "      <td>2025-03-01</td>\n",
              "      <td>2100000.0</td>\n",
              "      <td>P015</td>\n",
              "      <td>Sony</td>\n",
              "    </tr>\n",
              "  </tbody>\n",
              "</table>\n",
              "</div>"
            ],
            "text/plain": [
              "    pid  start_date    end_date     budget   ssn  sponsor\n",
              "0     1  2023-01-01  2024-01-01  1500000.0  P001   Google\n",
              "1     3  2023-03-15  2024-03-15  2200000.0  P003   Amazon\n",
              "2     4  2023-04-01  2024-12-01  2000000.0  P004    Apple\n",
              "3     6  2023-06-01  2024-08-01  1100000.0  P006      IBM\n",
              "4     8  2023-08-01  2024-04-01  1300000.0  P008    Intel\n",
              "5    10  2023-10-01  2024-10-01  1700000.0  P010      AMD\n",
              "6    11  2023-11-01  2024-11-01  2500000.0  P011    Tesla\n",
              "7    12  2023-12-01  2024-12-01  1800000.0  P012   SpaceX\n",
              "8    13  2024-01-01  2025-01-01  1600000.0  P013  Samsung\n",
              "9    14  2024-02-01  2025-02-01  1900000.0  P014   Huawei\n",
              "10   15  2024-03-01  2025-03-01  2100000.0  P015     Sony"
            ]
          },
          "metadata": {},
          "output_type": "display_data"
        }
      ],
      "source": [
        "query_high_budget = \"SELECT * from PROJECT WHERE budget > 1000000;\" \n",
        "cursor.execute(query_high_budget)\n",
        "columns = [description[0] for description in cursor.description]\n",
        "results_df = pd.DataFrame(cursor.fetchall(), columns=columns)\n",
        "print(\"High-budget projects (>$1,000,000):\")\n",
        "display(results_df)"
      ]
    },
    {
      "cell_type": "markdown",
      "metadata": {},
      "source": [
        "### 8.Retrieve all departments and their chairmen."
      ]
    },
    {
      "cell_type": "code",
      "execution_count": 12,
      "metadata": {},
      "outputs": [
        {
          "name": "stdout",
          "output_type": "stream",
          "text": [
            "Departments and their chairmen:\n"
          ]
        },
        {
          "data": {
            "text/html": [
              "<div>\n",
              "<style scoped>\n",
              "    .dataframe tbody tr th:only-of-type {\n",
              "        vertical-align: middle;\n",
              "    }\n",
              "\n",
              "    .dataframe tbody tr th {\n",
              "        vertical-align: top;\n",
              "    }\n",
              "\n",
              "    .dataframe thead th {\n",
              "        text-align: right;\n",
              "    }\n",
              "</style>\n",
              "<table border=\"1\" class=\"dataframe\">\n",
              "  <thead>\n",
              "    <tr style=\"text-align: right;\">\n",
              "      <th></th>\n",
              "      <th>dno</th>\n",
              "      <th>dname</th>\n",
              "      <th>office</th>\n",
              "      <th>name</th>\n",
              "    </tr>\n",
              "  </thead>\n",
              "  <tbody>\n",
              "    <tr>\n",
              "      <th>0</th>\n",
              "      <td>1</td>\n",
              "      <td>Computer Science</td>\n",
              "      <td>Room 101</td>\n",
              "      <td>John Smith</td>\n",
              "    </tr>\n",
              "    <tr>\n",
              "      <th>1</th>\n",
              "      <td>2</td>\n",
              "      <td>Data Science</td>\n",
              "      <td>Room 201</td>\n",
              "      <td>Mary Johnson</td>\n",
              "    </tr>\n",
              "    <tr>\n",
              "      <th>2</th>\n",
              "      <td>3</td>\n",
              "      <td>Software Engineering</td>\n",
              "      <td>Room 301</td>\n",
              "      <td>Robert Brown</td>\n",
              "    </tr>\n",
              "    <tr>\n",
              "      <th>3</th>\n",
              "      <td>4</td>\n",
              "      <td>Cybersecurity</td>\n",
              "      <td>Room 401</td>\n",
              "      <td>Sarah Davis</td>\n",
              "    </tr>\n",
              "    <tr>\n",
              "      <th>4</th>\n",
              "      <td>5</td>\n",
              "      <td>Artificial Intelligence</td>\n",
              "      <td>Room 501</td>\n",
              "      <td>Michael Wilson</td>\n",
              "    </tr>\n",
              "    <tr>\n",
              "      <th>5</th>\n",
              "      <td>6</td>\n",
              "      <td>Robotics</td>\n",
              "      <td>Room 601</td>\n",
              "      <td>Richard Lee</td>\n",
              "    </tr>\n",
              "    <tr>\n",
              "      <th>6</th>\n",
              "      <td>7</td>\n",
              "      <td>Digital Media</td>\n",
              "      <td>Room 701</td>\n",
              "      <td>Patricia Moore</td>\n",
              "    </tr>\n",
              "    <tr>\n",
              "      <th>7</th>\n",
              "      <td>8</td>\n",
              "      <td>Information Systems</td>\n",
              "      <td>Room 801</td>\n",
              "      <td>David Miller</td>\n",
              "    </tr>\n",
              "  </tbody>\n",
              "</table>\n",
              "</div>"
            ],
            "text/plain": [
              "   dno                    dname    office            name\n",
              "0    1         Computer Science  Room 101      John Smith\n",
              "1    2             Data Science  Room 201    Mary Johnson\n",
              "2    3     Software Engineering  Room 301    Robert Brown\n",
              "3    4            Cybersecurity  Room 401     Sarah Davis\n",
              "4    5  Artificial Intelligence  Room 501  Michael Wilson\n",
              "5    6                 Robotics  Room 601     Richard Lee\n",
              "6    7            Digital Media  Room 701  Patricia Moore\n",
              "7    8      Information Systems  Room 801    David Miller"
            ]
          },
          "metadata": {},
          "output_type": "display_data"
        }
      ],
      "source": [
        "query_chairmen = \"SELECT Dept.dno, Dept.dname, Dept.office, Professor.name FROM Dept JOIN Professor ON Dept.prof_ssn = Professor.prof_ssn;\"\n",
        "cursor.execute(query_chairmen)\n",
        "columns = [description[0] for description in cursor.description]\n",
        "results_df = pd.DataFrame(cursor.fetchall(), columns=columns)\n",
        "print(\"Departments and their chairmen:\")\n",
        "display(results_df)"
      ]
    },
    {
      "cell_type": "markdown",
      "metadata": {},
      "source": [
        "### 9.Find the total number of projects a specific professor is managing"
      ]
    },
    {
      "cell_type": "code",
      "execution_count": 13,
      "metadata": {},
      "outputs": [
        {
          "name": "stdout",
          "output_type": "stream",
          "text": [
            "Number of projects managed by Professor P001:\n"
          ]
        },
        {
          "data": {
            "text/html": [
              "<div>\n",
              "<style scoped>\n",
              "    .dataframe tbody tr th:only-of-type {\n",
              "        vertical-align: middle;\n",
              "    }\n",
              "\n",
              "    .dataframe tbody tr th {\n",
              "        vertical-align: top;\n",
              "    }\n",
              "\n",
              "    .dataframe thead th {\n",
              "        text-align: right;\n",
              "    }\n",
              "</style>\n",
              "<table border=\"1\" class=\"dataframe\">\n",
              "  <thead>\n",
              "    <tr style=\"text-align: right;\">\n",
              "      <th></th>\n",
              "      <th>TotalProjects</th>\n",
              "    </tr>\n",
              "  </thead>\n",
              "  <tbody>\n",
              "    <tr>\n",
              "      <th>0</th>\n",
              "      <td>1</td>\n",
              "    </tr>\n",
              "  </tbody>\n",
              "</table>\n",
              "</div>"
            ],
            "text/plain": [
              "   TotalProjects\n",
              "0              1"
            ]
          },
          "metadata": {},
          "output_type": "display_data"
        }
      ],
      "source": [
        "query_project_count = \"SELECT COUNT(*) AS TotalProjects FROM Project WHERE ssn = 'P001';\" \n",
        "cursor.execute(query_project_count)\n",
        "columns = [description[0] for description in cursor.description]\n",
        "results_df = pd.DataFrame(cursor.fetchall(), columns=columns)\n",
        "print(f\"Number of projects managed by Professor P001:\")\n",
        "display(results_df)"
      ]
    },
    {
      "cell_type": "markdown",
      "metadata": {},
      "source": [
        "### 10. Find the names of graduate students and their major department."
      ]
    },
    {
      "cell_type": "code",
      "execution_count": 14,
      "metadata": {},
      "outputs": [
        {
          "name": "stdout",
          "output_type": "stream",
          "text": [
            "Graduate students and their departments:\n"
          ]
        },
        {
          "data": {
            "text/html": [
              "<div>\n",
              "<style scoped>\n",
              "    .dataframe tbody tr th:only-of-type {\n",
              "        vertical-align: middle;\n",
              "    }\n",
              "\n",
              "    .dataframe tbody tr th {\n",
              "        vertical-align: top;\n",
              "    }\n",
              "\n",
              "    .dataframe thead th {\n",
              "        text-align: right;\n",
              "    }\n",
              "</style>\n",
              "<table border=\"1\" class=\"dataframe\">\n",
              "  <thead>\n",
              "    <tr style=\"text-align: right;\">\n",
              "      <th></th>\n",
              "      <th>grad_ssn</th>\n",
              "      <th>name</th>\n",
              "      <th>age</th>\n",
              "      <th>deg_prog</th>\n",
              "      <th>dname</th>\n",
              "    </tr>\n",
              "  </thead>\n",
              "  <tbody>\n",
              "    <tr>\n",
              "      <th>0</th>\n",
              "      <td>G001</td>\n",
              "      <td>Alex Wilson</td>\n",
              "      <td>25</td>\n",
              "      <td>PhD</td>\n",
              "      <td>Computer Science</td>\n",
              "    </tr>\n",
              "    <tr>\n",
              "      <th>1</th>\n",
              "      <td>G002</td>\n",
              "      <td>Emily Brown</td>\n",
              "      <td>23</td>\n",
              "      <td>MS</td>\n",
              "      <td>Data Science</td>\n",
              "    </tr>\n",
              "    <tr>\n",
              "      <th>2</th>\n",
              "      <td>G003</td>\n",
              "      <td>Chris Lee</td>\n",
              "      <td>27</td>\n",
              "      <td>PhD</td>\n",
              "      <td>Software Engineering</td>\n",
              "    </tr>\n",
              "    <tr>\n",
              "      <th>3</th>\n",
              "      <td>G004</td>\n",
              "      <td>Diana Kim</td>\n",
              "      <td>24</td>\n",
              "      <td>MS</td>\n",
              "      <td>Cybersecurity</td>\n",
              "    </tr>\n",
              "    <tr>\n",
              "      <th>4</th>\n",
              "      <td>G005</td>\n",
              "      <td>Frank Chen</td>\n",
              "      <td>26</td>\n",
              "      <td>PhD</td>\n",
              "      <td>Artificial Intelligence</td>\n",
              "    </tr>\n",
              "    <tr>\n",
              "      <th>5</th>\n",
              "      <td>G006</td>\n",
              "      <td>Grace Liu</td>\n",
              "      <td>25</td>\n",
              "      <td>MS</td>\n",
              "      <td>Computer Science</td>\n",
              "    </tr>\n",
              "    <tr>\n",
              "      <th>6</th>\n",
              "      <td>G007</td>\n",
              "      <td>Henry Park</td>\n",
              "      <td>28</td>\n",
              "      <td>PhD</td>\n",
              "      <td>Data Science</td>\n",
              "    </tr>\n",
              "    <tr>\n",
              "      <th>7</th>\n",
              "      <td>G008</td>\n",
              "      <td>Isabel Cruz</td>\n",
              "      <td>24</td>\n",
              "      <td>MS</td>\n",
              "      <td>Software Engineering</td>\n",
              "    </tr>\n",
              "    <tr>\n",
              "      <th>8</th>\n",
              "      <td>G009</td>\n",
              "      <td>Jack Zhang</td>\n",
              "      <td>26</td>\n",
              "      <td>PhD</td>\n",
              "      <td>Cybersecurity</td>\n",
              "    </tr>\n",
              "    <tr>\n",
              "      <th>9</th>\n",
              "      <td>G010</td>\n",
              "      <td>Kelly Wong</td>\n",
              "      <td>23</td>\n",
              "      <td>MS</td>\n",
              "      <td>Artificial Intelligence</td>\n",
              "    </tr>\n",
              "    <tr>\n",
              "      <th>10</th>\n",
              "      <td>G011</td>\n",
              "      <td>Larry Foster</td>\n",
              "      <td>25</td>\n",
              "      <td>PhD</td>\n",
              "      <td>Robotics</td>\n",
              "    </tr>\n",
              "    <tr>\n",
              "      <th>11</th>\n",
              "      <td>G012</td>\n",
              "      <td>Monica Patel</td>\n",
              "      <td>24</td>\n",
              "      <td>MS</td>\n",
              "      <td>Digital Media</td>\n",
              "    </tr>\n",
              "    <tr>\n",
              "      <th>12</th>\n",
              "      <td>G013</td>\n",
              "      <td>Nathan Rodriguez</td>\n",
              "      <td>27</td>\n",
              "      <td>PhD</td>\n",
              "      <td>Information Systems</td>\n",
              "    </tr>\n",
              "    <tr>\n",
              "      <th>13</th>\n",
              "      <td>G014</td>\n",
              "      <td>Olivia Thompson</td>\n",
              "      <td>26</td>\n",
              "      <td>MS</td>\n",
              "      <td>Computer Science</td>\n",
              "    </tr>\n",
              "    <tr>\n",
              "      <th>14</th>\n",
              "      <td>G015</td>\n",
              "      <td>Peter Chang</td>\n",
              "      <td>29</td>\n",
              "      <td>PhD</td>\n",
              "      <td>Data Science</td>\n",
              "    </tr>\n",
              "    <tr>\n",
              "      <th>15</th>\n",
              "      <td>G016</td>\n",
              "      <td>Quinn Martinez</td>\n",
              "      <td>23</td>\n",
              "      <td>MS</td>\n",
              "      <td>Software Engineering</td>\n",
              "    </tr>\n",
              "    <tr>\n",
              "      <th>16</th>\n",
              "      <td>G017</td>\n",
              "      <td>Rachel Kim</td>\n",
              "      <td>25</td>\n",
              "      <td>PhD</td>\n",
              "      <td>Cybersecurity</td>\n",
              "    </tr>\n",
              "    <tr>\n",
              "      <th>17</th>\n",
              "      <td>G018</td>\n",
              "      <td>Steven Johnson</td>\n",
              "      <td>24</td>\n",
              "      <td>MS</td>\n",
              "      <td>Artificial Intelligence</td>\n",
              "    </tr>\n",
              "    <tr>\n",
              "      <th>18</th>\n",
              "      <td>G019</td>\n",
              "      <td>Tina Liu</td>\n",
              "      <td>28</td>\n",
              "      <td>PhD</td>\n",
              "      <td>Robotics</td>\n",
              "    </tr>\n",
              "    <tr>\n",
              "      <th>19</th>\n",
              "      <td>G020</td>\n",
              "      <td>Victor Garcia</td>\n",
              "      <td>26</td>\n",
              "      <td>MS</td>\n",
              "      <td>Digital Media</td>\n",
              "    </tr>\n",
              "  </tbody>\n",
              "</table>\n",
              "</div>"
            ],
            "text/plain": [
              "   grad_ssn              name  age deg_prog                    dname\n",
              "0      G001       Alex Wilson   25      PhD         Computer Science\n",
              "1      G002       Emily Brown   23       MS             Data Science\n",
              "2      G003         Chris Lee   27      PhD     Software Engineering\n",
              "3      G004         Diana Kim   24       MS            Cybersecurity\n",
              "4      G005        Frank Chen   26      PhD  Artificial Intelligence\n",
              "5      G006         Grace Liu   25       MS         Computer Science\n",
              "6      G007        Henry Park   28      PhD             Data Science\n",
              "7      G008       Isabel Cruz   24       MS     Software Engineering\n",
              "8      G009        Jack Zhang   26      PhD            Cybersecurity\n",
              "9      G010        Kelly Wong   23       MS  Artificial Intelligence\n",
              "10     G011      Larry Foster   25      PhD                 Robotics\n",
              "11     G012      Monica Patel   24       MS            Digital Media\n",
              "12     G013  Nathan Rodriguez   27      PhD      Information Systems\n",
              "13     G014   Olivia Thompson   26       MS         Computer Science\n",
              "14     G015       Peter Chang   29      PhD             Data Science\n",
              "15     G016    Quinn Martinez   23       MS     Software Engineering\n",
              "16     G017        Rachel Kim   25      PhD            Cybersecurity\n",
              "17     G018    Steven Johnson   24       MS  Artificial Intelligence\n",
              "18     G019          Tina Liu   28      PhD                 Robotics\n",
              "19     G020     Victor Garcia   26       MS            Digital Media"
            ]
          },
          "metadata": {},
          "output_type": "display_data"
        }
      ],
      "source": [
        "# 10. Find the names of graduate students and their major department\n",
        "query_student_dept = \"SELECT Graduate.grad_ssn, Graduate.name, Graduate.age, Graduate.deg_prog, Dept.dname FROM Graduate JOIN Dept where major = dno;\" # Write your SQL here\n",
        "cursor.execute(query_student_dept)\n",
        "columns = [description[0] for description in cursor.description]\n",
        "results_df = pd.DataFrame(cursor.fetchall(), columns=columns)\n",
        "print(\"Graduate students and their departments:\")\n",
        "display(results_df)"
      ]
    },
    {
      "cell_type": "markdown",
      "metadata": {},
      "source": [
        "## Closing the database"
      ]
    },
    {
      "cell_type": "code",
      "execution_count": 15,
      "metadata": {},
      "outputs": [
        {
          "name": "stdout",
          "output_type": "stream",
          "text": [
            "Database connection closed.\n"
          ]
        }
      ],
      "source": [
        "# Close the connection\n",
        "connection.close()\n",
        "print(\"Database connection closed.\")\n"
      ]
    }
  ],
  "metadata": {
    "colab": {
      "authorship_tag": "ABX9TyMQBUkJ5EdtG7bhNCICisHL",
      "include_colab_link": true,
      "provenance": []
    },
    "kernelspec": {
      "display_name": "Python 3",
      "name": "python3"
    },
    "language_info": {
      "codemirror_mode": {
        "name": "ipython",
        "version": 3
      },
      "file_extension": ".py",
      "mimetype": "text/x-python",
      "name": "python",
      "nbconvert_exporter": "python",
      "pygments_lexer": "ipython3",
      "version": "3.11.5"
    }
  },
  "nbformat": 4,
  "nbformat_minor": 0
}
