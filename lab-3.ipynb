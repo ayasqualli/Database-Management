{
  "cells": [
    {
      "cell_type": "markdown",
      "metadata": {
        "id": "YQPI3T-foNKW"
      },
      "source": [
        "# Lab 3"
      ]
    },
    {
      "cell_type": "code",
      "execution_count": 5,
      "metadata": {
        "id": "Y-shsWdpoG7u"
      },
      "outputs": [],
      "source": [
        "import sqlite3"
      ]
    },
    {
      "cell_type": "markdown",
      "metadata": {
        "id": "mDKy2vh9rgiW"
      },
      "source": [
        "# Init db"
      ]
    },
    {
      "cell_type": "code",
      "execution_count": 6,
      "metadata": {
        "id": "bb_QU4fqoQou"
      },
      "outputs": [],
      "source": [
        "# connect to db\n",
        "conn = sqlite3.connect('lab_3.db')\n",
        "cursor = conn.cursor()"
      ]
    },
    {
      "cell_type": "markdown",
      "metadata": {
        "id": "00OEVT49riMx"
      },
      "source": [
        "# Create tables"
      ]
    },
    {
      "cell_type": "code",
      "execution_count": 7,
      "metadata": {
        "id": "Oal0Ho6OoXsb"
      },
      "outputs": [
        {
          "data": {
            "text/plain": [
              "<sqlite3.Cursor at 0x1a27398bf40>"
            ]
          },
          "execution_count": 7,
          "metadata": {},
          "output_type": "execute_result"
        }
      ],
      "source": [
        "# create tables\n",
        "cursor.execute('''\n",
        "CREATE TABLE IF NOT EXISTS Professors (\n",
        "    prof_ssn CHAR(10) PRIMARY KEY,\n",
        "    name CHAR(64),\n",
        "    age INTEGER,\n",
        "    rank INTEGER,\n",
        "    speciality CHAR(64)\n",
        ");''')\n",
        "\n",
        "\n",
        "cursor.execute('''\n",
        "CREATE TABLE IF NOT EXISTS Depts (\n",
        "    dno INTEGER PRIMARY KEY,\n",
        "    dname CHAR(64),\n",
        "    office CHAR(10)\n",
        ");''')\n",
        "\n",
        "\n",
        "cursor.execute('''\n",
        "CREATE TABLE IF NOT EXISTS Runs (\n",
        "    dno INTEGER,\n",
        "    prof_ssn CHAR(10),\n",
        "    PRIMARY KEY (dno, prof_ssn),\n",
        "    FOREIGN KEY (prof_ssn) REFERENCES Professors,\n",
        "    FOREIGN KEY (dno) REFERENCES Depts\n",
        ");''')\n",
        "\n",
        "\n",
        "cursor.execute('''\n",
        "CREATE TABLE IF NOT EXISTS Work_Dept (\n",
        "    dno INTEGER,\n",
        "    prof_ssn CHAR(10),\n",
        "    pc_time INTEGER,\n",
        "    PRIMARY KEY (dno, prof_ssn),\n",
        "    FOREIGN KEY (prof_ssn) REFERENCES Professors,\n",
        "    FOREIGN KEY (dno) REFERENCES Depts\n",
        ");''')\n",
        "\n",
        "\n",
        "cursor.execute('''\n",
        "CREATE TABLE IF NOT EXISTS Projects (\n",
        "    pid INTEGER PRIMARY KEY,\n",
        "    sponsor CHAR(32),\n",
        "    start_date DATE,\n",
        "    end_date DATE,\n",
        "    budget FLOAT\n",
        ");''')\n",
        "\n",
        "\n",
        "cursor.execute('''\n",
        "CREATE TABLE IF NOT EXISTS Graduates (\n",
        "    grad_ssn CHAR(10) PRIMARY KEY,\n",
        "    age INTEGER,\n",
        "    name CHAR(64),\n",
        "    deg_prog CHAR(32),\n",
        "    major INTEGER,\n",
        "    FOREIGN KEY (major) REFERENCES Depts\n",
        ");''')\n",
        "\n",
        "\n",
        "cursor.execute('''\n",
        "CREATE TABLE IF NOT EXISTS Advisor (\n",
        "    senior_ssn CHAR(10),\n",
        "    grad_ssn CHAR(10),\n",
        "    PRIMARY KEY (senior_ssn, grad_ssn),\n",
        "    FOREIGN KEY (senior_ssn) REFERENCES Graduates(grad_ssn),\n",
        "    FOREIGN KEY (grad_ssn) REFERENCES Graduates\n",
        ");''')\n",
        "\n",
        "\n",
        "cursor.execute('''\n",
        "CREATE TABLE IF NOT EXISTS Manages (\n",
        "    pid INTEGER,\n",
        "    prof_ssn CHAR(10),\n",
        "    PRIMARY KEY (pid, prof_ssn),\n",
        "    FOREIGN KEY (prof_ssn) REFERENCES Professors,\n",
        "    FOREIGN KEY (pid) REFERENCES Projects\n",
        ");''')\n",
        "\n",
        "cursor.execute('''\n",
        "CREATE TABLE IF NOT EXISTS Work_In (\n",
        "    pid INTEGER,\n",
        "    prof_ssn CHAR(10),\n",
        "    PRIMARY KEY (pid, prof_ssn),\n",
        "    FOREIGN KEY (prof_ssn) REFERENCES Professors,\n",
        "    FOREIGN KEY (pid) REFERENCES Projects\n",
        ");''')\n",
        "\n",
        "\n",
        "cursor.execute('''\n",
        "CREATE TABLE IF NOT EXISTS Supervises (\n",
        "    prof_ssn CHAR(10),\n",
        "    grad_ssn CHAR(10),\n",
        "    pid INTEGER,\n",
        "    PRIMARY KEY (prof_ssn, grad_ssn, pid),\n",
        "    FOREIGN KEY (prof_ssn) REFERENCES Professors,\n",
        "    FOREIGN KEY (grad_ssn) REFERENCES Graduates,\n",
        "    FOREIGN KEY (pid) REFERENCES Projects\n",
        ");''')\n"
      ]
    },
    {
      "cell_type": "markdown",
      "metadata": {
        "id": "oFGYQ7dErnea"
      },
      "source": [
        "# Add data"
      ]
    },
    {
      "cell_type": "code",
      "execution_count": 8,
      "metadata": {
        "id": "-c4ulu7cojdH"
      },
      "outputs": [],
      "source": [
        "# add data\n",
        "professors = [\n",
        "    ('P1', 'Prof. Smith', 55, 1, 'AI'),\n",
        "    ('P2', 'Prof. Johnson', 45, 2, 'DBMS'),\n",
        "    ('P3', 'Prof. Lee', 50, 1, 'Networking'),\n",
        "    ('P4', 'Prof. Kim', 40, 3, 'Cybersecurity')\n",
        "]\n",
        "cursor.executemany('INSERT OR IGNORE INTO Professors VALUES (?, ?, ?, ?, ?)', professors)\n",
        "\n",
        "depts = [\n",
        "    (1, 'Computer Science', 'A101'),\n",
        "    (2, 'Mathematics', 'B201'),\n",
        "    (3, 'Physics', 'C301')\n",
        "]\n",
        "cursor.executemany('INSERT OR IGNORE INTO Depts VALUES (?, ?, ?)', depts)\n",
        "\n",
        "\n",
        "runs = [\n",
        "    (1, 'P1'),\n",
        "    (2, 'P2'),\n",
        "    (3, 'P3')\n",
        "]\n",
        "cursor.executemany('INSERT OR IGNORE INTO Runs VALUES (?, ?)', runs)\n",
        "\n",
        "\n",
        "work_dept = [\n",
        "    (1, 'P1', 30),\n",
        "    (2, 'P2', 20),\n",
        "    (3, 'P3', 25)\n",
        "]\n",
        "cursor.executemany('INSERT OR IGNORE INTO Work_Dept VALUES (?, ?, ?)', work_dept)\n",
        "\n",
        "\n",
        "projects = [\n",
        "    (101, 'NSF', '2023-01-01', '2023-12-31', 50000),\n",
        "    (102, 'Google', '2022-06-01', '2024-05-31', 100000),\n",
        "    (103, 'Microsoft', '2023-03-01', '2023-11-30', 75000)\n",
        "]\n",
        "cursor.executemany('INSERT OR IGNORE INTO Projects VALUES (?, ?, ?, ?, ?)', projects)\n",
        "\n",
        "\n",
        "graduates = [\n",
        "    ('G1', 24, 'Alice', 'M.Sc', 1),\n",
        "    ('G2', 26, 'Bob', 'Ph.D', 2),\n",
        "    ('G3', 23, 'Charlie', 'B.Sc', 3)\n",
        "]\n",
        "cursor.executemany('INSERT OR IGNORE INTO Graduates VALUES (?, ?, ?, ?, ?)', graduates)\n",
        "\n",
        "\n",
        "advisors = [\n",
        "    ('G2', 'G1'),\n",
        "    ('G3', 'G2')\n",
        "]\n",
        "cursor.executemany('INSERT OR IGNORE INTO Advisor VALUES (?, ?)', advisors)\n",
        "\n",
        "\n",
        "manages = [\n",
        "    (101, 'P1'),\n",
        "    (102, 'P2'),\n",
        "    (103, 'P3')\n",
        "]\n",
        "cursor.executemany('INSERT OR IGNORE INTO Manages VALUES (?, ?)', manages)\n",
        "\n",
        "\n",
        "work_in = [\n",
        "    (101, 'P1'),\n",
        "    (102, 'P2'),\n",
        "    (103, 'P3')\n",
        "]\n",
        "cursor.executemany('INSERT OR IGNORE INTO Work_In VALUES (?, ?)', work_in)\n",
        "\n",
        "\n",
        "supervises = [\n",
        "    ('P1', 'G1', 101),\n",
        "    ('P2', 'G2', 102),\n",
        "    ('P3', 'G3', 103)\n",
        "]\n",
        "cursor.executemany('INSERT OR IGNORE INTO Supervises VALUES (?, ?, ?)', supervises)\n",
        "\n",
        "conn.commit()\n"
      ]
    },
    {
      "cell_type": "markdown",
      "metadata": {
        "id": "jFla4cw8pUTA"
      },
      "source": [
        "**Section 2: Joins**\n",
        "#### **Examples**\n",
        "1. Retrieve all professors and their departments.\n",
        "   ```sql\n",
        "   SELECT p.name AS Professor, d.dname AS Department\n",
        "   FROM Professors p\n",
        "   JOIN Runs r ON p.prof_ssn = r.prof_ssn\n",
        "   JOIN Depts d ON r.dno = d.dno;\n",
        "   ```\n",
        "2. Find the graduates and their advisors.\n",
        "   ```sql\n",
        "   SELECT g.name AS Graduate, g2.name AS Advisor\n",
        "   FROM Graduates g\n",
        "   JOIN Advisor a ON g.grad_ssn = a.grad_ssn\n",
        "   JOIN Graduates g2 ON a.senior_ssn = g2.grad_ssn;\n",
        "    ```\n",
        "#### Questions:\n",
        "3. List the names of all professors and their associated projects.\n",
        "4. List all graduates along with their advisors and the department they are majoring in.\n",
        "5. Retrieve professors who manage at least one project and the project details."
      ]
    },
    {
      "cell_type": "code",
      "execution_count": 14,
      "metadata": {
        "id": "LFIQ2-bwrZ1Q"
      },
      "outputs": [
        {
          "name": "stdout",
          "output_type": "stream",
          "text": [
            "Professor Name\tProject ID\n",
            "Prof. Smith\t101\n",
            "Prof. Johnson\t102\n",
            "Prof. Lee\t103\n"
          ]
        }
      ],
      "source": [
        "# q3\n",
        "results = cursor.execute(\"\"\"\n",
        "SELECT Professors.name, Projects.pid FROM Professors JOIN Supervises ON Professors.prof_ssn = Supervises.prof_ssn JOIN Projects ON Supervises.pid = Projects.pid\n",
        "\n",
        "\"\"\")\n",
        "print(\"Professor Name\\tProject ID\")\n",
        "for row in results.fetchall():\n",
        "    print(f\"{row[0]}\\t{row[1]}\")"
      ]
    },
    {
      "cell_type": "code",
      "execution_count": 20,
      "metadata": {
        "id": "GnNXES0Jradq"
      },
      "outputs": [
        {
          "name": "stdout",
          "output_type": "stream",
          "text": [
            "Graduate\tAdvisor\tDepartment\n",
            "Alice\tBob\tComputer Science\n",
            "Bob\tCharlie\tMathematics\n"
          ]
        }
      ],
      "source": [
        "# q4\n",
        "results = cursor.execute(\"\"\"\n",
        "SELECT g1.name as student, g2.name as advisor, d.dname as department FROM Graduates g1 JOIN Advisor a ON g1.grad_ssn = a.grad_ssn JOIN Graduates g2 ON a.senior_ssn = g2.grad_ssn JOIN Depts d ON g1.major = d.dno;\n",
        "\n",
        "\"\"\")\n",
        "print(\"Graduate\\tAdvisor\\tDepartment\")\n",
        "for row in results.fetchall():\n",
        "    print(f\"{row[0]}\\t{row[1]}\\t{row[2]}\")"
      ]
    },
    {
      "cell_type": "code",
      "execution_count": 31,
      "metadata": {
        "id": "HAZ_q9D6rbGc"
      },
      "outputs": [
        {
          "name": "stdout",
          "output_type": "stream",
          "text": [
            "Professor Name\t\tProject ID\tSponsor\t\tStart Date\t\tEnd Date\t\tBudget\n",
            "Prof. Smith\t\t101\t\tNSF\t\t2023-01-01\t\t2023-12-31\t\t50000.0\n",
            "Prof. Johnson\t\t102\t\tGoogle\t\t2022-06-01\t\t2024-05-31\t\t100000.0\n",
            "Prof. Lee\t\t103\t\tMicrosoft\t\t2023-03-01\t\t2023-11-30\t\t75000.0\n"
          ]
        }
      ],
      "source": [
        "# q5\n",
        "results = cursor.execute(\"\"\"\n",
        "SELECT Professors.name, Projects.* FROM Professors JOIN Supervises ON Professors.prof_ssn = Supervises.prof_ssn JOIN Projects ON Projects.pid = Supervises.pid;\n",
        "\n",
        "\"\"\")\n",
        "print(\"Professor Name\\t\\tProject ID\\tSponsor\\t\\tStart Date\\t\\tEnd Date\\t\\tBudget\")\n",
        "for row in results.fetchall():\n",
        "    print(f\"{row[0]}\\t\\t{row[1]}\\t\\t{row[2]}\\t\\t{row[3]}\\t\\t{row[4]}\\t\\t{row[5]}\")"
      ]
    },
    {
      "cell_type": "markdown",
      "metadata": {
        "id": "NMYB76Gqpxsi"
      },
      "source": [
        "\n",
        "\n",
        "### **Section 2: Nested Queries**\n",
        "\n",
        "#### **Examples**\n",
        "1. Find the names of professors who manage projects with budgets greater than $70,000.\n",
        "   ```sql\n",
        "   SELECT name\n",
        "   FROM Professors\n",
        "   WHERE prof_ssn IN (\n",
        "       SELECT prof_ssn\n",
        "       FROM Manages\n",
        "       WHERE pid IN (\n",
        "           SELECT pid\n",
        "           FROM Projects\n",
        "           WHERE budget > 70000\n",
        "       )\n",
        "   );\n",
        "   ```\n",
        "\n",
        "2. Retrieve graduates who have the same major as Prof. Smith's department.\n",
        "   ```sql\n",
        "   SELECT name\n",
        "   FROM Graduates\n",
        "   WHERE major = (\n",
        "       SELECT dno\n",
        "       FROM Runs\n",
        "       WHERE prof_ssn = 'P1'\n",
        "   );\n",
        "   ```\n",
        "\n",
        "#### **Questions**\n",
        "3. Find graduates whose advisor is supervising atleast two students.\n",
        "4. Retrieve the name of the professor who manages the project with the highest budget.\n",
        "5. List all graduates who are majoring in the same department as their advisors.\n"
      ]
    },
    {
      "cell_type": "code",
      "execution_count": 51,
      "metadata": {
        "id": "ob4I-v2kqscD"
      },
      "outputs": [
        {
          "name": "stdout",
          "output_type": "stream",
          "text": [
            "[]\n"
          ]
        }
      ],
      "source": [
        "# q3\n",
        "results = cursor.execute(\"\"\"\n",
        "SELECT g1.name as student FROM Graduates g1 JOIN Advisor a ON g1.grad_ssn = a.grad_ssn\n",
        "WHERE a.senior_ssn IN (\n",
        "SELECT senior_ssn FROM Advisor GROUP BY senior_ssn HAVING COUNT(*) >= 2\n",
        ");\n",
        "\n",
        "\"\"\")\n",
        "print(results.fetchall())"
      ]
    },
    {
      "cell_type": "code",
      "execution_count": 43,
      "metadata": {
        "id": "XhQFjZJXqsFq"
      },
      "outputs": [
        {
          "name": "stdout",
          "output_type": "stream",
          "text": [
            "[('Prof. Johnson',)]\n"
          ]
        }
      ],
      "source": [
        "# q4\n",
        "results = cursor.execute(\"\"\"\n",
        "SELECT Professors.name FROM Professors JOIN Supervises ON Professors.prof_ssn = Supervises.prof_ssn JOIN Projects ON Projects.pid = Supervises.pid WHERE Projects.budget = (SELECT MAX(budget) FROM Projects)\n",
        "\n",
        "\"\"\")\n",
        "print(results.fetchall())"
      ]
    },
    {
      "cell_type": "code",
      "execution_count": 46,
      "metadata": {
        "id": "YN_LD3GDrTic"
      },
      "outputs": [
        {
          "name": "stdout",
          "output_type": "stream",
          "text": [
            "[]\n"
          ]
        }
      ],
      "source": [
        "# q5\n",
        "results = cursor.execute(\"\"\"\n",
        "SELECT g1.name as student FROM Graduates g1 JOIN Advisor a ON g1.grad_ssn = a.grad_ssn JOIN Graduates g2 ON a.senior_ssn = g2.grad_ssn\n",
        "WHERE g1.major = g2.major;\n",
        "\"\"\")\n",
        "print(results.fetchall())"
      ]
    },
    {
      "cell_type": "markdown",
      "metadata": {
        "id": "7T3QoItxqeJP"
      },
      "source": [
        "### **Section 3: Triggers**\n",
        "\n",
        "#### **Examples**\n",
        "1. Prevent insertion of a graduate younger than 21.\n",
        "   ```sql\n",
        "   CREATE TRIGGER prevent_young_grads\n",
        "   BEFORE INSERT ON Graduates\n",
        "   FOR EACH ROW\n",
        "   BEGIN\n",
        "       SELECT CASE\n",
        "           WHEN NEW.age < 21 THEN\n",
        "               RAISE(ABORT, 'Graduate must be at least 21 years old')\n",
        "       END;\n",
        "   END;\n",
        "   ```\n",
        "\n",
        "2. Automatically assign a professor to a department if they are added without one.\n",
        "   ```sql\n",
        "   CREATE TRIGGER assign_default_dept\n",
        "   AFTER INSERT ON Professors\n",
        "   FOR EACH ROW\n",
        "   WHEN NOT EXISTS (SELECT * FROM Runs WHERE prof_ssn = NEW.prof_ssn)\n",
        "   BEGIN\n",
        "       INSERT INTO Runs (dno, prof_ssn) VALUES (1, NEW.prof_ssn);\n",
        "   END;\n",
        "   ```\n",
        "\n",
        "#### **Questions**\n",
        "3. Write a trigger to ensure that projects with a budget over $100,000 cannot be added.\n",
        "4. Create a trigger to ensure that when a project is deleted, all corresponding entries in Manages and Work_In are also deleted.\n",
        "5. Create a trigger to automatically assign a default advisor to a graduate if none is provided."
      ]
    },
    {
      "cell_type": "code",
      "execution_count": 48,
      "metadata": {
        "id": "4dlgUmYNp2OD"
      },
      "outputs": [
        {
          "name": "stdout",
          "output_type": "stream",
          "text": [
            "[]\n"
          ]
        }
      ],
      "source": [
        "# q3\n",
        "results = cursor.execute(\"\"\"\n",
        "CREATE TRIGGER prevent_big_budget\n",
        "BEFORE INSERT ON Projects\n",
        "FOR EACH ROW\n",
        "BEGIN\n",
        "    SELECT CASE\n",
        "        WHEN NEW.budget > 100000 THEN\n",
        "            RAISE(ABORT, \"The project's budget must be less than or $100,000\")\n",
        "    END;\n",
        "END;\n",
        "\"\"\")\n",
        "print(results.fetchall())"
      ]
    },
    {
      "cell_type": "code",
      "execution_count": 49,
      "metadata": {
        "id": "BaGAcOizrXKz"
      },
      "outputs": [
        {
          "name": "stdout",
          "output_type": "stream",
          "text": [
            "[]\n"
          ]
        }
      ],
      "source": [
        "# q4\n",
        "results = cursor.execute(\n",
        "\"\"\"\n",
        "CREATE TRIGGER cascade_delete_project\n",
        "AFTER DELETE ON Projects\n",
        "FOR EACH ROW\n",
        "BEGIN\n",
        "    DELETE FROM Manages WHERE pid = OLD.pid;\n",
        "    DELETE FROM Work_in WHERE pid = OLD.pid;\n",
        "END; \n",
        "\n",
        "\"\"\")\n",
        "print(results.fetchall())"
      ]
    },
    {
      "cell_type": "code",
      "execution_count": 50,
      "metadata": {
        "id": "ztLp5JpIrXpt"
      },
      "outputs": [
        {
          "name": "stdout",
          "output_type": "stream",
          "text": [
            "[]\n"
          ]
        }
      ],
      "source": [
        "# q5\n",
        "results = cursor.execute(\"\"\"\n",
        "CREATE TRIGGER assign_advisor\n",
        "AFTER INSERT ON Graduates\n",
        "FOR EACH ROW\n",
        "WHEN NOT EXISTS (SELECT * FROM Advisor WHERE grad_ssn = NEW.grad_ssn)\n",
        "BEGIN\n",
        "    INSERT INTO Advisor(senior_ssn, grad_ssn) VALUES ('G1', NEW.grad_ssn);\n",
        "END;\n",
        "\"\"\")\n",
        "print(results.fetchall())"
      ]
    }
  ],
  "metadata": {
    "colab": {
      "provenance": []
    },
    "kernelspec": {
      "display_name": "Python 3",
      "name": "python3"
    },
    "language_info": {
      "codemirror_mode": {
        "name": "ipython",
        "version": 3
      },
      "file_extension": ".py",
      "mimetype": "text/x-python",
      "name": "python",
      "nbconvert_exporter": "python",
      "pygments_lexer": "ipython3",
      "version": "3.11.5"
    }
  },
  "nbformat": 4,
  "nbformat_minor": 0
}
